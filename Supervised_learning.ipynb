{
 "cells": [
  {
   "cell_type": "markdown",
   "metadata": {},
   "source": [
    "# Отток клиентов"
   ]
  },
  {
   "cell_type": "markdown",
   "metadata": {},
   "source": [
    "Из «Бета-Банка» стали уходить клиенты. Каждый месяц. Немного, но заметно. Банковские маркетологи посчитали: сохранять текущих клиентов дешевле, чем привлекать новых.\n",
    "\n",
    "Нужно спрогнозировать, уйдёт клиент из банка в ближайшее время или нет. Вам предоставлены исторические данные о поведении клиентов и расторжении договоров с банком. \n",
    "\n",
    "Постройте модель с предельно большим значением *F1*-меры. Чтобы сдать проект успешно, нужно довести метрику до 0.59. Проверьте *F1*-меру на тестовой выборке самостоятельно.\n",
    "\n",
    "Дополнительно измеряйте *AUC-ROC*, сравнивайте её значение с *F1*-мерой.\n",
    "\n",
    "Источник данных: [https://www.kaggle.com/barelydedicated/bank-customer-churn-modeling](https://www.kaggle.com/barelydedicated/bank-customer-churn-modeling)"
   ]
  },
  {
   "cell_type": "markdown",
   "metadata": {
    "toc": true
   },
   "source": [
    "<h1>Содержание<span class=\"tocSkip\"></span></h1>\n",
    "<div class=\"toc\"><ul class=\"toc-item\"><li><span><a href=\"#Подготовка-данных\" data-toc-modified-id=\"Подготовка-данных-1\"><span class=\"toc-item-num\">1&nbsp;&nbsp;</span>Подготовка данных</a></span><ul class=\"toc-item\"><li><span><a href=\"#Вывод\" data-toc-modified-id=\"Вывод-1.1\"><span class=\"toc-item-num\">1.1&nbsp;&nbsp;</span>Вывод</a></span></li></ul></li><li><span><a href=\"#Исследование-задачи\" data-toc-modified-id=\"Исследование-задачи-2\"><span class=\"toc-item-num\">2&nbsp;&nbsp;</span>Исследование задачи</a></span><ul class=\"toc-item\"><li><span><a href=\"#Исследование-баланса-классов\" data-toc-modified-id=\"Исследование-баланса-классов-2.1\"><span class=\"toc-item-num\">2.1&nbsp;&nbsp;</span>Исследование баланса классов</a></span></li><li><span><a href=\"#Логистическая-регрессия\" data-toc-modified-id=\"Логистическая-регрессия-2.2\"><span class=\"toc-item-num\">2.2&nbsp;&nbsp;</span>Логистическая регрессия</a></span></li><li><span><a href=\"#Дерево-решений\" data-toc-modified-id=\"Дерево-решений-2.3\"><span class=\"toc-item-num\">2.3&nbsp;&nbsp;</span>Дерево решений</a></span></li><li><span><a href=\"#Случайный-лес\" data-toc-modified-id=\"Случайный-лес-2.4\"><span class=\"toc-item-num\">2.4&nbsp;&nbsp;</span>Случайный лес</a></span></li><li><span><a href=\"#Вывод\" data-toc-modified-id=\"Вывод-2.5\"><span class=\"toc-item-num\">2.5&nbsp;&nbsp;</span>Вывод</a></span></li></ul></li><li><span><a href=\"#Борьба-с-дисбалансом\" data-toc-modified-id=\"Борьба-с-дисбалансом-3\"><span class=\"toc-item-num\">3&nbsp;&nbsp;</span>Борьба с дисбалансом</a></span><ul class=\"toc-item\"><li><span><a href=\"#Взвешивание-классов\" data-toc-modified-id=\"Взвешивание-классов-3.1\"><span class=\"toc-item-num\">3.1&nbsp;&nbsp;</span>Взвешивание классов</a></span><ul class=\"toc-item\"><li><span><a href=\"#Логистическая-регрессия\" data-toc-modified-id=\"Логистическая-регрессия-3.1.1\"><span class=\"toc-item-num\">3.1.1&nbsp;&nbsp;</span>Логистическая регрессия</a></span></li><li><span><a href=\"#Дерево-решений\" data-toc-modified-id=\"Дерево-решений-3.1.2\"><span class=\"toc-item-num\">3.1.2&nbsp;&nbsp;</span>Дерево решений</a></span></li><li><span><a href=\"#Случайный-лес\" data-toc-modified-id=\"Случайный-лес-3.1.3\"><span class=\"toc-item-num\">3.1.3&nbsp;&nbsp;</span>Случайный лес</a></span></li></ul></li><li><span><a href=\"#Увеличение-выборки\" data-toc-modified-id=\"Увеличение-выборки-3.2\"><span class=\"toc-item-num\">3.2&nbsp;&nbsp;</span>Увеличение выборки</a></span><ul class=\"toc-item\"><li><span><a href=\"#Логистическая-регрессия\" data-toc-modified-id=\"Логистическая-регрессия-3.2.1\"><span class=\"toc-item-num\">3.2.1&nbsp;&nbsp;</span>Логистическая регрессия</a></span></li><li><span><a href=\"#Дерево-решений\" data-toc-modified-id=\"Дерево-решений-3.2.2\"><span class=\"toc-item-num\">3.2.2&nbsp;&nbsp;</span>Дерево решений</a></span></li><li><span><a href=\"#Случайный-лес\" data-toc-modified-id=\"Случайный-лес-3.2.3\"><span class=\"toc-item-num\">3.2.3&nbsp;&nbsp;</span>Случайный лес</a></span></li></ul></li><li><span><a href=\"#Уменьшение-выборки\" data-toc-modified-id=\"Уменьшение-выборки-3.3\"><span class=\"toc-item-num\">3.3&nbsp;&nbsp;</span>Уменьшение выборки</a></span><ul class=\"toc-item\"><li><span><a href=\"#Логистическая-регрессия\" data-toc-modified-id=\"Логистическая-регрессия-3.3.1\"><span class=\"toc-item-num\">3.3.1&nbsp;&nbsp;</span>Логистическая регрессия</a></span></li><li><span><a href=\"#Дерево-решений\" data-toc-modified-id=\"Дерево-решений-3.3.2\"><span class=\"toc-item-num\">3.3.2&nbsp;&nbsp;</span>Дерево решений</a></span></li><li><span><a href=\"#Случайный-лес\" data-toc-modified-id=\"Случайный-лес-3.3.3\"><span class=\"toc-item-num\">3.3.3&nbsp;&nbsp;</span>Случайный лес</a></span></li></ul></li><li><span><a href=\"#Вывод\" data-toc-modified-id=\"Вывод-3.4\"><span class=\"toc-item-num\">3.4&nbsp;&nbsp;</span>Вывод</a></span></li></ul></li><li><span><a href=\"#Тестирование-модели\" data-toc-modified-id=\"Тестирование-модели-4\"><span class=\"toc-item-num\">4&nbsp;&nbsp;</span>Тестирование модели</a></span><ul class=\"toc-item\"><li><span><a href=\"#Вывод\" data-toc-modified-id=\"Вывод-4.1\"><span class=\"toc-item-num\">4.1&nbsp;&nbsp;</span>Вывод</a></span></li></ul></li><li><span><a href=\"#Чек-лист-готовности-проекта\" data-toc-modified-id=\"Чек-лист-готовности-проекта-5\"><span class=\"toc-item-num\">5&nbsp;&nbsp;</span>Чек-лист готовности проекта</a></span></li><li><span><a href=\"#Общий-вывод\" data-toc-modified-id=\"Общий-вывод-6\"><span class=\"toc-item-num\">6&nbsp;&nbsp;</span>Общий вывод</a></span></li></ul></div>"
   ]
  },
  {
   "cell_type": "markdown",
   "metadata": {},
   "source": [
    "## Подготовка данных"
   ]
  },
  {
   "cell_type": "markdown",
   "metadata": {},
   "source": [
    "Загрузка библиотек:"
   ]
  },
  {
   "cell_type": "code",
   "execution_count": 1,
   "metadata": {},
   "outputs": [],
   "source": [
    "import pandas as pd\n",
    "import numpy as np\n",
    "import matplotlib.pyplot as plt\n",
    "import seaborn as sns\n",
    "\n",
    "from sklearn.model_selection import train_test_split\n",
    "from sklearn.preprocessing import RobustScaler\n",
    "from sklearn.preprocessing import OneHotEncoder\n",
    "from sklearn.metrics import confusion_matrix\n",
    "from sklearn.tree import DecisionTreeClassifier\n",
    "from sklearn.ensemble import RandomForestClassifier\n",
    "from sklearn.linear_model import LogisticRegression\n",
    "from sklearn.metrics import accuracy_score, recall_score, precision_score, f1_score, roc_auc_score\n",
    "from sklearn.utils import shuffle\n",
    "\n",
    "from sklearn.experimental import enable_iterative_imputer\n",
    "from sklearn.impute import IterativeImputer\n",
    "\n",
    "import warnings\n",
    "warnings.filterwarnings('ignore')"
   ]
  },
  {
   "cell_type": "markdown",
   "metadata": {},
   "source": [
    "Загрузка данных:"
   ]
  },
  {
   "cell_type": "code",
   "execution_count": 2,
   "metadata": {},
   "outputs": [],
   "source": [
    "churn = pd.read_csv('Churn.csv')"
   ]
  },
  {
   "cell_type": "markdown",
   "metadata": {},
   "source": [
    "Вывод первых строк и общей информации:"
   ]
  },
  {
   "cell_type": "code",
   "execution_count": 3,
   "metadata": {},
   "outputs": [
    {
     "data": {
      "text/html": [
       "<div>\n",
       "<style scoped>\n",
       "    .dataframe tbody tr th:only-of-type {\n",
       "        vertical-align: middle;\n",
       "    }\n",
       "\n",
       "    .dataframe tbody tr th {\n",
       "        vertical-align: top;\n",
       "    }\n",
       "\n",
       "    .dataframe thead th {\n",
       "        text-align: right;\n",
       "    }\n",
       "</style>\n",
       "<table border=\"1\" class=\"dataframe\">\n",
       "  <thead>\n",
       "    <tr style=\"text-align: right;\">\n",
       "      <th></th>\n",
       "      <th>RowNumber</th>\n",
       "      <th>CustomerId</th>\n",
       "      <th>Surname</th>\n",
       "      <th>CreditScore</th>\n",
       "      <th>Geography</th>\n",
       "      <th>Gender</th>\n",
       "      <th>Age</th>\n",
       "      <th>Tenure</th>\n",
       "      <th>Balance</th>\n",
       "      <th>NumOfProducts</th>\n",
       "      <th>HasCrCard</th>\n",
       "      <th>IsActiveMember</th>\n",
       "      <th>EstimatedSalary</th>\n",
       "      <th>Exited</th>\n",
       "    </tr>\n",
       "  </thead>\n",
       "  <tbody>\n",
       "    <tr>\n",
       "      <th>0</th>\n",
       "      <td>1</td>\n",
       "      <td>15634602</td>\n",
       "      <td>Hargrave</td>\n",
       "      <td>619</td>\n",
       "      <td>France</td>\n",
       "      <td>Female</td>\n",
       "      <td>42</td>\n",
       "      <td>2.0</td>\n",
       "      <td>0.00</td>\n",
       "      <td>1</td>\n",
       "      <td>1</td>\n",
       "      <td>1</td>\n",
       "      <td>101348.88</td>\n",
       "      <td>1</td>\n",
       "    </tr>\n",
       "    <tr>\n",
       "      <th>1</th>\n",
       "      <td>2</td>\n",
       "      <td>15647311</td>\n",
       "      <td>Hill</td>\n",
       "      <td>608</td>\n",
       "      <td>Spain</td>\n",
       "      <td>Female</td>\n",
       "      <td>41</td>\n",
       "      <td>1.0</td>\n",
       "      <td>83807.86</td>\n",
       "      <td>1</td>\n",
       "      <td>0</td>\n",
       "      <td>1</td>\n",
       "      <td>112542.58</td>\n",
       "      <td>0</td>\n",
       "    </tr>\n",
       "    <tr>\n",
       "      <th>2</th>\n",
       "      <td>3</td>\n",
       "      <td>15619304</td>\n",
       "      <td>Onio</td>\n",
       "      <td>502</td>\n",
       "      <td>France</td>\n",
       "      <td>Female</td>\n",
       "      <td>42</td>\n",
       "      <td>8.0</td>\n",
       "      <td>159660.80</td>\n",
       "      <td>3</td>\n",
       "      <td>1</td>\n",
       "      <td>0</td>\n",
       "      <td>113931.57</td>\n",
       "      <td>1</td>\n",
       "    </tr>\n",
       "    <tr>\n",
       "      <th>3</th>\n",
       "      <td>4</td>\n",
       "      <td>15701354</td>\n",
       "      <td>Boni</td>\n",
       "      <td>699</td>\n",
       "      <td>France</td>\n",
       "      <td>Female</td>\n",
       "      <td>39</td>\n",
       "      <td>1.0</td>\n",
       "      <td>0.00</td>\n",
       "      <td>2</td>\n",
       "      <td>0</td>\n",
       "      <td>0</td>\n",
       "      <td>93826.63</td>\n",
       "      <td>0</td>\n",
       "    </tr>\n",
       "    <tr>\n",
       "      <th>4</th>\n",
       "      <td>5</td>\n",
       "      <td>15737888</td>\n",
       "      <td>Mitchell</td>\n",
       "      <td>850</td>\n",
       "      <td>Spain</td>\n",
       "      <td>Female</td>\n",
       "      <td>43</td>\n",
       "      <td>2.0</td>\n",
       "      <td>125510.82</td>\n",
       "      <td>1</td>\n",
       "      <td>1</td>\n",
       "      <td>1</td>\n",
       "      <td>79084.10</td>\n",
       "      <td>0</td>\n",
       "    </tr>\n",
       "  </tbody>\n",
       "</table>\n",
       "</div>"
      ],
      "text/plain": [
       "   RowNumber  CustomerId   Surname  CreditScore Geography  Gender  Age  \\\n",
       "0          1    15634602  Hargrave          619    France  Female   42   \n",
       "1          2    15647311      Hill          608     Spain  Female   41   \n",
       "2          3    15619304      Onio          502    France  Female   42   \n",
       "3          4    15701354      Boni          699    France  Female   39   \n",
       "4          5    15737888  Mitchell          850     Spain  Female   43   \n",
       "\n",
       "   Tenure    Balance  NumOfProducts  HasCrCard  IsActiveMember  \\\n",
       "0     2.0       0.00              1          1               1   \n",
       "1     1.0   83807.86              1          0               1   \n",
       "2     8.0  159660.80              3          1               0   \n",
       "3     1.0       0.00              2          0               0   \n",
       "4     2.0  125510.82              1          1               1   \n",
       "\n",
       "   EstimatedSalary  Exited  \n",
       "0        101348.88       1  \n",
       "1        112542.58       0  \n",
       "2        113931.57       1  \n",
       "3         93826.63       0  \n",
       "4         79084.10       0  "
      ]
     },
     "execution_count": 3,
     "metadata": {},
     "output_type": "execute_result"
    }
   ],
   "source": [
    "churn.head()"
   ]
  },
  {
   "cell_type": "code",
   "execution_count": 4,
   "metadata": {},
   "outputs": [
    {
     "name": "stdout",
     "output_type": "stream",
     "text": [
      "<class 'pandas.core.frame.DataFrame'>\n",
      "RangeIndex: 10000 entries, 0 to 9999\n",
      "Data columns (total 14 columns):\n",
      " #   Column           Non-Null Count  Dtype  \n",
      "---  ------           --------------  -----  \n",
      " 0   RowNumber        10000 non-null  int64  \n",
      " 1   CustomerId       10000 non-null  int64  \n",
      " 2   Surname          10000 non-null  object \n",
      " 3   CreditScore      10000 non-null  int64  \n",
      " 4   Geography        10000 non-null  object \n",
      " 5   Gender           10000 non-null  object \n",
      " 6   Age              10000 non-null  int64  \n",
      " 7   Tenure           9091 non-null   float64\n",
      " 8   Balance          10000 non-null  float64\n",
      " 9   NumOfProducts    10000 non-null  int64  \n",
      " 10  HasCrCard        10000 non-null  int64  \n",
      " 11  IsActiveMember   10000 non-null  int64  \n",
      " 12  EstimatedSalary  10000 non-null  float64\n",
      " 13  Exited           10000 non-null  int64  \n",
      "dtypes: float64(3), int64(8), object(3)\n",
      "memory usage: 1.1+ MB\n"
     ]
    }
   ],
   "source": [
    "churn.info()"
   ]
  },
  {
   "cell_type": "markdown",
   "metadata": {},
   "source": [
    "Можно сразу удалить признаки, которые не являются необходимыми и могут исказить результаты:"
   ]
  },
  {
   "cell_type": "code",
   "execution_count": 5,
   "metadata": {},
   "outputs": [],
   "source": [
    "churn = churn.drop(['RowNumber', 'CustomerId', 'Surname'], axis = 1)"
   ]
  },
  {
   "cell_type": "code",
   "execution_count": 6,
   "metadata": {
    "scrolled": true
   },
   "outputs": [
    {
     "data": {
      "text/html": [
       "<div>\n",
       "<style scoped>\n",
       "    .dataframe tbody tr th:only-of-type {\n",
       "        vertical-align: middle;\n",
       "    }\n",
       "\n",
       "    .dataframe tbody tr th {\n",
       "        vertical-align: top;\n",
       "    }\n",
       "\n",
       "    .dataframe thead th {\n",
       "        text-align: right;\n",
       "    }\n",
       "</style>\n",
       "<table border=\"1\" class=\"dataframe\">\n",
       "  <thead>\n",
       "    <tr style=\"text-align: right;\">\n",
       "      <th></th>\n",
       "      <th>count</th>\n",
       "      <th>mean</th>\n",
       "      <th>std</th>\n",
       "      <th>min</th>\n",
       "      <th>25%</th>\n",
       "      <th>50%</th>\n",
       "      <th>75%</th>\n",
       "      <th>max</th>\n",
       "    </tr>\n",
       "  </thead>\n",
       "  <tbody>\n",
       "    <tr>\n",
       "      <th>CreditScore</th>\n",
       "      <td>10000.0</td>\n",
       "      <td>650.528800</td>\n",
       "      <td>96.653299</td>\n",
       "      <td>350.00</td>\n",
       "      <td>584.00</td>\n",
       "      <td>652.000</td>\n",
       "      <td>718.0000</td>\n",
       "      <td>850.00</td>\n",
       "    </tr>\n",
       "    <tr>\n",
       "      <th>Age</th>\n",
       "      <td>10000.0</td>\n",
       "      <td>38.921800</td>\n",
       "      <td>10.487806</td>\n",
       "      <td>18.00</td>\n",
       "      <td>32.00</td>\n",
       "      <td>37.000</td>\n",
       "      <td>44.0000</td>\n",
       "      <td>92.00</td>\n",
       "    </tr>\n",
       "    <tr>\n",
       "      <th>Tenure</th>\n",
       "      <td>9091.0</td>\n",
       "      <td>4.997690</td>\n",
       "      <td>2.894723</td>\n",
       "      <td>0.00</td>\n",
       "      <td>2.00</td>\n",
       "      <td>5.000</td>\n",
       "      <td>7.0000</td>\n",
       "      <td>10.00</td>\n",
       "    </tr>\n",
       "    <tr>\n",
       "      <th>Balance</th>\n",
       "      <td>10000.0</td>\n",
       "      <td>76485.889288</td>\n",
       "      <td>62397.405202</td>\n",
       "      <td>0.00</td>\n",
       "      <td>0.00</td>\n",
       "      <td>97198.540</td>\n",
       "      <td>127644.2400</td>\n",
       "      <td>250898.09</td>\n",
       "    </tr>\n",
       "    <tr>\n",
       "      <th>NumOfProducts</th>\n",
       "      <td>10000.0</td>\n",
       "      <td>1.530200</td>\n",
       "      <td>0.581654</td>\n",
       "      <td>1.00</td>\n",
       "      <td>1.00</td>\n",
       "      <td>1.000</td>\n",
       "      <td>2.0000</td>\n",
       "      <td>4.00</td>\n",
       "    </tr>\n",
       "    <tr>\n",
       "      <th>HasCrCard</th>\n",
       "      <td>10000.0</td>\n",
       "      <td>0.705500</td>\n",
       "      <td>0.455840</td>\n",
       "      <td>0.00</td>\n",
       "      <td>0.00</td>\n",
       "      <td>1.000</td>\n",
       "      <td>1.0000</td>\n",
       "      <td>1.00</td>\n",
       "    </tr>\n",
       "    <tr>\n",
       "      <th>IsActiveMember</th>\n",
       "      <td>10000.0</td>\n",
       "      <td>0.515100</td>\n",
       "      <td>0.499797</td>\n",
       "      <td>0.00</td>\n",
       "      <td>0.00</td>\n",
       "      <td>1.000</td>\n",
       "      <td>1.0000</td>\n",
       "      <td>1.00</td>\n",
       "    </tr>\n",
       "    <tr>\n",
       "      <th>EstimatedSalary</th>\n",
       "      <td>10000.0</td>\n",
       "      <td>100090.239881</td>\n",
       "      <td>57510.492818</td>\n",
       "      <td>11.58</td>\n",
       "      <td>51002.11</td>\n",
       "      <td>100193.915</td>\n",
       "      <td>149388.2475</td>\n",
       "      <td>199992.48</td>\n",
       "    </tr>\n",
       "    <tr>\n",
       "      <th>Exited</th>\n",
       "      <td>10000.0</td>\n",
       "      <td>0.203700</td>\n",
       "      <td>0.402769</td>\n",
       "      <td>0.00</td>\n",
       "      <td>0.00</td>\n",
       "      <td>0.000</td>\n",
       "      <td>0.0000</td>\n",
       "      <td>1.00</td>\n",
       "    </tr>\n",
       "  </tbody>\n",
       "</table>\n",
       "</div>"
      ],
      "text/plain": [
       "                   count           mean           std     min       25%  \\\n",
       "CreditScore      10000.0     650.528800     96.653299  350.00    584.00   \n",
       "Age              10000.0      38.921800     10.487806   18.00     32.00   \n",
       "Tenure            9091.0       4.997690      2.894723    0.00      2.00   \n",
       "Balance          10000.0   76485.889288  62397.405202    0.00      0.00   \n",
       "NumOfProducts    10000.0       1.530200      0.581654    1.00      1.00   \n",
       "HasCrCard        10000.0       0.705500      0.455840    0.00      0.00   \n",
       "IsActiveMember   10000.0       0.515100      0.499797    0.00      0.00   \n",
       "EstimatedSalary  10000.0  100090.239881  57510.492818   11.58  51002.11   \n",
       "Exited           10000.0       0.203700      0.402769    0.00      0.00   \n",
       "\n",
       "                        50%          75%        max  \n",
       "CreditScore         652.000     718.0000     850.00  \n",
       "Age                  37.000      44.0000      92.00  \n",
       "Tenure                5.000       7.0000      10.00  \n",
       "Balance           97198.540  127644.2400  250898.09  \n",
       "NumOfProducts         1.000       2.0000       4.00  \n",
       "HasCrCard             1.000       1.0000       1.00  \n",
       "IsActiveMember        1.000       1.0000       1.00  \n",
       "EstimatedSalary  100193.915  149388.2475  199992.48  \n",
       "Exited                0.000       0.0000       1.00  "
      ]
     },
     "execution_count": 6,
     "metadata": {},
     "output_type": "execute_result"
    }
   ],
   "source": [
    "churn.describe().T"
   ]
  },
  {
   "cell_type": "code",
   "execution_count": 7,
   "metadata": {},
   "outputs": [
    {
     "data": {
      "image/png": "[encoded data removed]",
      "text/plain": [
       "<Figure size 1440x1080 with 9 Axes>"
      ]
     },
     "metadata": {
      "needs_background": "light"
     },
     "output_type": "display_data"
    }
   ],
   "source": [
    "churn.hist(bins = 50, figsize = (20, 15), edgecolor = 'black', linewidth = 1);"
   ]
  },
  {
   "cell_type": "code",
   "execution_count": 8,
   "metadata": {},
   "outputs": [
    {
     "name": "stdout",
     "output_type": "stream",
     "text": [
      "['France' 'Spain' 'Germany']\n",
      "['Female' 'Male']\n"
     ]
    }
   ],
   "source": [
    "print(churn['Geography'].unique())\n",
    "print(churn['Gender'].unique())"
   ]
  },
  {
   "cell_type": "markdown",
   "metadata": {},
   "source": [
    "Проверим данные на дубликаты: "
   ]
  },
  {
   "cell_type": "code",
   "execution_count": 9,
   "metadata": {},
   "outputs": [
    {
     "data": {
      "text/plain": [
       "0"
      ]
     },
     "execution_count": 9,
     "metadata": {},
     "output_type": "execute_result"
    }
   ],
   "source": [
    "churn.duplicated().sum()"
   ]
  },
  {
   "cell_type": "markdown",
   "metadata": {},
   "source": [
    "Дубликатов нет. Данные приведены к нужным типам. Пропуски присутсвуют только в одном столбце – **Tenure** (сколько лет человек является клиентом банка). В категориальных признаках аномальных значений нет. Два пола и три страны. \n",
    "\n",
    "Видны выбросы в призниках кредитного рейтинга, возраста, баланса. Также в явном виде можно отметить дисбаланс в целевом признаке. \n",
    "\n",
    "Далее разделим исходные данные на обучающую, валидационную и тестовую выборки. Разделять будем в отношении 3:1:1. Для начала разделим на обучающую и временную в отношении 3:2, затем временную разделим пополам.\n",
    "\n",
    "После закодируем категориальные признаки, заполним пропуски и масштабируем признаки с учетом выбросов."
   ]
  },
  {
   "cell_type": "code",
   "execution_count": 10,
   "metadata": {},
   "outputs": [
    {
     "name": "stdout",
     "output_type": "stream",
     "text": [
      "Размеры обучающих выборок:\n",
      "(6000, 10)\n",
      "(6000,)\n",
      "\n",
      "Размеры валидационных выборок:\n",
      "(2000, 10)\n",
      "(2000,)\n",
      "\n",
      "Размеры тестовых выборок:\n",
      "(2000, 10)\n",
      "(2000,)\n"
     ]
    }
   ],
   "source": [
    "train, temp = train_test_split(churn, test_size = 0.4, random_state = 42)\n",
    "\n",
    "valid, test = train_test_split(temp, test_size = 0.5, random_state = 42)\n",
    "\n",
    "train = train.reset_index(drop=True)\n",
    "valid = valid.reset_index(drop=True)\n",
    "test = test.reset_index(drop=True)\n",
    "\n",
    "features_train = train.drop(['Exited'], axis=1)\n",
    "target_train = train['Exited']\n",
    "features_valid = valid.drop(['Exited'], axis=1)\n",
    "target_valid = valid['Exited']\n",
    "features_test = test.drop(['Exited'], axis=1)\n",
    "target_test = test['Exited']\n",
    "\n",
    "print('Размеры обучающих выборок:')\n",
    "print(features_train.shape)\n",
    "print(target_train.shape)\n",
    "print()\n",
    "print('Размеры валидационных выборок:')\n",
    "print(features_valid.shape)\n",
    "print(target_valid.shape)\n",
    "print()\n",
    "print('Размеры тестовых выборок:')\n",
    "print(features_test.shape)\n",
    "print(target_test.shape)"
   ]
  },
  {
   "cell_type": "markdown",
   "metadata": {},
   "source": [
    "Теперь разберемся с категориальными признаками. \n",
    "\n",
    "Воспользуемся техникой прямого кодирования и избежим дамми-ловушку. Для начала посмотрим, совпадает ли кол-во уникальных значений категориальных признаков в выборках. "
   ]
  },
  {
   "cell_type": "code",
   "execution_count": 11,
   "metadata": {
    "scrolled": true
   },
   "outputs": [
    {
     "data": {
      "text/plain": [
       "True"
      ]
     },
     "execution_count": 11,
     "metadata": {},
     "output_type": "execute_result"
    }
   ],
   "source": [
    "features_train['Geography'].nunique() == features_valid['Geography'].nunique() == features_test['Geography'].nunique()\n"
   ]
  },
  {
   "cell_type": "code",
   "execution_count": 12,
   "metadata": {},
   "outputs": [
    {
     "data": {
      "text/plain": [
       "True"
      ]
     },
     "execution_count": 12,
     "metadata": {},
     "output_type": "execute_result"
    }
   ],
   "source": [
    "features_train['Gender'].nunique() == features_valid['Gender'].nunique() == features_test['Gender'].nunique()"
   ]
  },
  {
   "cell_type": "code",
   "execution_count": 13,
   "metadata": {},
   "outputs": [
    {
     "data": {
      "text/html": [
       "<div>\n",
       "<style scoped>\n",
       "    .dataframe tbody tr th:only-of-type {\n",
       "        vertical-align: middle;\n",
       "    }\n",
       "\n",
       "    .dataframe tbody tr th {\n",
       "        vertical-align: top;\n",
       "    }\n",
       "\n",
       "    .dataframe thead th {\n",
       "        text-align: right;\n",
       "    }\n",
       "</style>\n",
       "<table border=\"1\" class=\"dataframe\">\n",
       "  <thead>\n",
       "    <tr style=\"text-align: right;\">\n",
       "      <th></th>\n",
       "      <th>CreditScore</th>\n",
       "      <th>Geography</th>\n",
       "      <th>Gender</th>\n",
       "      <th>Age</th>\n",
       "      <th>Tenure</th>\n",
       "      <th>Balance</th>\n",
       "      <th>NumOfProducts</th>\n",
       "      <th>HasCrCard</th>\n",
       "      <th>IsActiveMember</th>\n",
       "      <th>EstimatedSalary</th>\n",
       "      <th>Geography_Germany</th>\n",
       "      <th>Geography_Spain</th>\n",
       "      <th>Gender_Male</th>\n",
       "    </tr>\n",
       "  </thead>\n",
       "  <tbody>\n",
       "    <tr>\n",
       "      <th>0</th>\n",
       "      <td>807</td>\n",
       "      <td>Germany</td>\n",
       "      <td>Female</td>\n",
       "      <td>60</td>\n",
       "      <td>NaN</td>\n",
       "      <td>72948.58</td>\n",
       "      <td>2</td>\n",
       "      <td>1</td>\n",
       "      <td>1</td>\n",
       "      <td>17355.36</td>\n",
       "      <td>1.0</td>\n",
       "      <td>0.0</td>\n",
       "      <td>0.0</td>\n",
       "    </tr>\n",
       "    <tr>\n",
       "      <th>1</th>\n",
       "      <td>834</td>\n",
       "      <td>France</td>\n",
       "      <td>Male</td>\n",
       "      <td>23</td>\n",
       "      <td>4.0</td>\n",
       "      <td>131254.81</td>\n",
       "      <td>1</td>\n",
       "      <td>1</td>\n",
       "      <td>0</td>\n",
       "      <td>20199.30</td>\n",
       "      <td>0.0</td>\n",
       "      <td>0.0</td>\n",
       "      <td>1.0</td>\n",
       "    </tr>\n",
       "    <tr>\n",
       "      <th>2</th>\n",
       "      <td>609</td>\n",
       "      <td>France</td>\n",
       "      <td>Female</td>\n",
       "      <td>39</td>\n",
       "      <td>8.0</td>\n",
       "      <td>141675.23</td>\n",
       "      <td>1</td>\n",
       "      <td>0</td>\n",
       "      <td>1</td>\n",
       "      <td>175664.25</td>\n",
       "      <td>0.0</td>\n",
       "      <td>0.0</td>\n",
       "      <td>0.0</td>\n",
       "    </tr>\n",
       "    <tr>\n",
       "      <th>3</th>\n",
       "      <td>676</td>\n",
       "      <td>Germany</td>\n",
       "      <td>Female</td>\n",
       "      <td>26</td>\n",
       "      <td>1.0</td>\n",
       "      <td>108348.66</td>\n",
       "      <td>1</td>\n",
       "      <td>0</td>\n",
       "      <td>0</td>\n",
       "      <td>60231.74</td>\n",
       "      <td>1.0</td>\n",
       "      <td>0.0</td>\n",
       "      <td>0.0</td>\n",
       "    </tr>\n",
       "    <tr>\n",
       "      <th>4</th>\n",
       "      <td>516</td>\n",
       "      <td>Spain</td>\n",
       "      <td>Female</td>\n",
       "      <td>33</td>\n",
       "      <td>3.0</td>\n",
       "      <td>0.00</td>\n",
       "      <td>2</td>\n",
       "      <td>1</td>\n",
       "      <td>1</td>\n",
       "      <td>58685.59</td>\n",
       "      <td>0.0</td>\n",
       "      <td>1.0</td>\n",
       "      <td>0.0</td>\n",
       "    </tr>\n",
       "  </tbody>\n",
       "</table>\n",
       "</div>"
      ],
      "text/plain": [
       "   CreditScore Geography  Gender  Age  Tenure    Balance  NumOfProducts  \\\n",
       "0          807   Germany  Female   60     NaN   72948.58              2   \n",
       "1          834    France    Male   23     4.0  131254.81              1   \n",
       "2          609    France  Female   39     8.0  141675.23              1   \n",
       "3          676   Germany  Female   26     1.0  108348.66              1   \n",
       "4          516     Spain  Female   33     3.0       0.00              2   \n",
       "\n",
       "   HasCrCard  IsActiveMember  EstimatedSalary  Geography_Germany  \\\n",
       "0          1               1         17355.36                1.0   \n",
       "1          1               0         20199.30                0.0   \n",
       "2          0               1        175664.25                0.0   \n",
       "3          0               0         60231.74                1.0   \n",
       "4          1               1         58685.59                0.0   \n",
       "\n",
       "   Geography_Spain  Gender_Male  \n",
       "0              0.0          0.0  \n",
       "1              0.0          1.0  \n",
       "2              0.0          0.0  \n",
       "3              0.0          0.0  \n",
       "4              1.0          0.0  "
      ]
     },
     "execution_count": 13,
     "metadata": {},
     "output_type": "execute_result"
    }
   ],
   "source": [
    "categorical_columns = ['Geography', 'Gender']\n",
    "\n",
    "encoder = OneHotEncoder(drop = 'first', sparse = False)\n",
    "\n",
    "encoder.fit(features_train[categorical_columns])\n",
    "\n",
    "encoded_train = encoder.transform(features_train[categorical_columns])\n",
    "encoded_train_df = pd.DataFrame(encoded_train, columns = encoder.get_feature_names(categorical_columns))\n",
    "\n",
    "encoded_valid = encoder.transform(features_valid[categorical_columns])\n",
    "encoded_valid_df = pd.DataFrame(encoded_valid, columns=encoder.get_feature_names(categorical_columns))\n",
    "\n",
    "encoded_test = encoder.transform(features_test[categorical_columns])\n",
    "encoded_test_df = pd.DataFrame(encoded_test, columns=encoder.get_feature_names(categorical_columns))\n",
    "\n",
    "train_encoded = pd.concat([features_train, encoded_train_df], axis=1)\n",
    "valid_encoded = pd.concat([features_valid, encoded_valid_df], axis=1)\n",
    "test_encoded = pd.concat([features_test, encoded_test_df], axis=1)\n",
    "\n",
    "train_encoded.head()"
   ]
  },
  {
   "cell_type": "markdown",
   "metadata": {},
   "source": [
    "Посе проверки изначальные столбцы с категориальными переменными можно удалить. "
   ]
  },
  {
   "cell_type": "code",
   "execution_count": 14,
   "metadata": {},
   "outputs": [
    {
     "data": {
      "text/html": [
       "<div>\n",
       "<style scoped>\n",
       "    .dataframe tbody tr th:only-of-type {\n",
       "        vertical-align: middle;\n",
       "    }\n",
       "\n",
       "    .dataframe tbody tr th {\n",
       "        vertical-align: top;\n",
       "    }\n",
       "\n",
       "    .dataframe thead th {\n",
       "        text-align: right;\n",
       "    }\n",
       "</style>\n",
       "<table border=\"1\" class=\"dataframe\">\n",
       "  <thead>\n",
       "    <tr style=\"text-align: right;\">\n",
       "      <th></th>\n",
       "      <th>CreditScore</th>\n",
       "      <th>Age</th>\n",
       "      <th>Tenure</th>\n",
       "      <th>Balance</th>\n",
       "      <th>NumOfProducts</th>\n",
       "      <th>HasCrCard</th>\n",
       "      <th>IsActiveMember</th>\n",
       "      <th>EstimatedSalary</th>\n",
       "      <th>Geography_Germany</th>\n",
       "      <th>Geography_Spain</th>\n",
       "      <th>Gender_Male</th>\n",
       "    </tr>\n",
       "  </thead>\n",
       "  <tbody>\n",
       "    <tr>\n",
       "      <th>0</th>\n",
       "      <td>807</td>\n",
       "      <td>60</td>\n",
       "      <td>NaN</td>\n",
       "      <td>72948.58</td>\n",
       "      <td>2</td>\n",
       "      <td>1</td>\n",
       "      <td>1</td>\n",
       "      <td>17355.36</td>\n",
       "      <td>1.0</td>\n",
       "      <td>0.0</td>\n",
       "      <td>0.0</td>\n",
       "    </tr>\n",
       "    <tr>\n",
       "      <th>1</th>\n",
       "      <td>834</td>\n",
       "      <td>23</td>\n",
       "      <td>4.0</td>\n",
       "      <td>131254.81</td>\n",
       "      <td>1</td>\n",
       "      <td>1</td>\n",
       "      <td>0</td>\n",
       "      <td>20199.30</td>\n",
       "      <td>0.0</td>\n",
       "      <td>0.0</td>\n",
       "      <td>1.0</td>\n",
       "    </tr>\n",
       "    <tr>\n",
       "      <th>2</th>\n",
       "      <td>609</td>\n",
       "      <td>39</td>\n",
       "      <td>8.0</td>\n",
       "      <td>141675.23</td>\n",
       "      <td>1</td>\n",
       "      <td>0</td>\n",
       "      <td>1</td>\n",
       "      <td>175664.25</td>\n",
       "      <td>0.0</td>\n",
       "      <td>0.0</td>\n",
       "      <td>0.0</td>\n",
       "    </tr>\n",
       "    <tr>\n",
       "      <th>3</th>\n",
       "      <td>676</td>\n",
       "      <td>26</td>\n",
       "      <td>1.0</td>\n",
       "      <td>108348.66</td>\n",
       "      <td>1</td>\n",
       "      <td>0</td>\n",
       "      <td>0</td>\n",
       "      <td>60231.74</td>\n",
       "      <td>1.0</td>\n",
       "      <td>0.0</td>\n",
       "      <td>0.0</td>\n",
       "    </tr>\n",
       "    <tr>\n",
       "      <th>4</th>\n",
       "      <td>516</td>\n",
       "      <td>33</td>\n",
       "      <td>3.0</td>\n",
       "      <td>0.00</td>\n",
       "      <td>2</td>\n",
       "      <td>1</td>\n",
       "      <td>1</td>\n",
       "      <td>58685.59</td>\n",
       "      <td>0.0</td>\n",
       "      <td>1.0</td>\n",
       "      <td>0.0</td>\n",
       "    </tr>\n",
       "  </tbody>\n",
       "</table>\n",
       "</div>"
      ],
      "text/plain": [
       "   CreditScore  Age  Tenure    Balance  NumOfProducts  HasCrCard  \\\n",
       "0          807   60     NaN   72948.58              2          1   \n",
       "1          834   23     4.0  131254.81              1          1   \n",
       "2          609   39     8.0  141675.23              1          0   \n",
       "3          676   26     1.0  108348.66              1          0   \n",
       "4          516   33     3.0       0.00              2          1   \n",
       "\n",
       "   IsActiveMember  EstimatedSalary  Geography_Germany  Geography_Spain  \\\n",
       "0               1         17355.36                1.0              0.0   \n",
       "1               0         20199.30                0.0              0.0   \n",
       "2               1        175664.25                0.0              0.0   \n",
       "3               0         60231.74                1.0              0.0   \n",
       "4               1         58685.59                0.0              1.0   \n",
       "\n",
       "   Gender_Male  \n",
       "0          0.0  \n",
       "1          1.0  \n",
       "2          0.0  \n",
       "3          0.0  \n",
       "4          0.0  "
      ]
     },
     "execution_count": 14,
     "metadata": {},
     "output_type": "execute_result"
    }
   ],
   "source": [
    "train_encoded = train_encoded.drop(categorical_columns, axis=1)\n",
    "valid_encoded = valid_encoded.drop(categorical_columns, axis=1)\n",
    "test_encoded = test_encoded.drop(categorical_columns, axis=1)\n",
    "\n",
    "train_encoded.head()"
   ]
  },
  {
   "cell_type": "code",
   "execution_count": 15,
   "metadata": {},
   "outputs": [
    {
     "name": "stdout",
     "output_type": "stream",
     "text": [
      "<class 'pandas.core.frame.DataFrame'>\n",
      "RangeIndex: 6000 entries, 0 to 5999\n",
      "Data columns (total 11 columns):\n",
      " #   Column             Non-Null Count  Dtype  \n",
      "---  ------             --------------  -----  \n",
      " 0   CreditScore        6000 non-null   int64  \n",
      " 1   Age                6000 non-null   int64  \n",
      " 2   Tenure             5470 non-null   float64\n",
      " 3   Balance            6000 non-null   float64\n",
      " 4   NumOfProducts      6000 non-null   int64  \n",
      " 5   HasCrCard          6000 non-null   int64  \n",
      " 6   IsActiveMember     6000 non-null   int64  \n",
      " 7   EstimatedSalary    6000 non-null   float64\n",
      " 8   Geography_Germany  6000 non-null   float64\n",
      " 9   Geography_Spain    6000 non-null   float64\n",
      " 10  Gender_Male        6000 non-null   float64\n",
      "dtypes: float64(6), int64(5)\n",
      "memory usage: 515.8 KB\n"
     ]
    }
   ],
   "source": [
    "train_encoded.info()"
   ]
  },
  {
   "cell_type": "markdown",
   "metadata": {},
   "source": [
    "Готово, теперь заполним пропуски, используя **IterativeImputer**."
   ]
  },
  {
   "cell_type": "code",
   "execution_count": 16,
   "metadata": {},
   "outputs": [
    {
     "name": "stdout",
     "output_type": "stream",
     "text": [
      "<class 'pandas.core.frame.DataFrame'>\n",
      "RangeIndex: 6000 entries, 0 to 5999\n",
      "Data columns (total 11 columns):\n",
      " #   Column             Non-Null Count  Dtype  \n",
      "---  ------             --------------  -----  \n",
      " 0   CreditScore        6000 non-null   float64\n",
      " 1   Age                6000 non-null   float64\n",
      " 2   Tenure             6000 non-null   float64\n",
      " 3   Balance            6000 non-null   float64\n",
      " 4   NumOfProducts      6000 non-null   float64\n",
      " 5   HasCrCard          6000 non-null   float64\n",
      " 6   IsActiveMember     6000 non-null   float64\n",
      " 7   EstimatedSalary    6000 non-null   float64\n",
      " 8   Geography_Germany  6000 non-null   float64\n",
      " 9   Geography_Spain    6000 non-null   float64\n",
      " 10  Gender_Male        6000 non-null   float64\n",
      "dtypes: float64(11)\n",
      "memory usage: 515.8 KB\n"
     ]
    }
   ],
   "source": [
    "imputer = IterativeImputer(random_state = 42)\n",
    "\n",
    "imputer.fit(train_encoded) \n",
    "\n",
    "new_train = imputer.transform(train_encoded)\n",
    "new_train = pd.DataFrame(new_train, columns = train_encoded.columns)\n",
    "\n",
    "new_valid = imputer.transform(valid_encoded)\n",
    "new_valid = pd.DataFrame(new_valid, columns = valid_encoded.columns)\n",
    "\n",
    "new_test = imputer.transform(test_encoded)\n",
    "new_test = pd.DataFrame(new_test, columns = test_encoded.columns)\n",
    "\n",
    "new_train.info()"
   ]
  },
  {
   "cell_type": "markdown",
   "metadata": {},
   "source": [
    "Посмотрим на распределения в обучающей выборке:"
   ]
  },
  {
   "cell_type": "code",
   "execution_count": 17,
   "metadata": {},
   "outputs": [
    {
     "data": {
      "image/png": "[encoded data removed]",
      "text/plain": [
       "<Figure size 1440x1080 with 12 Axes>"
      ]
     },
     "metadata": {
      "needs_background": "light"
     },
     "output_type": "display_data"
    }
   ],
   "source": [
    "new_train.hist(bins = 50, figsize = (20, 15), edgecolor = 'black', linewidth = 1);"
   ]
  },
  {
   "cell_type": "code",
   "execution_count": 18,
   "metadata": {
    "scrolled": true
   },
   "outputs": [
    {
     "name": "stdout",
     "output_type": "stream",
     "text": [
      "<class 'pandas.core.frame.DataFrame'>\n",
      "RangeIndex: 2000 entries, 0 to 1999\n",
      "Data columns (total 11 columns):\n",
      " #   Column             Non-Null Count  Dtype  \n",
      "---  ------             --------------  -----  \n",
      " 0   CreditScore        2000 non-null   float64\n",
      " 1   Age                2000 non-null   float64\n",
      " 2   Tenure             2000 non-null   float64\n",
      " 3   Balance            2000 non-null   float64\n",
      " 4   NumOfProducts      2000 non-null   float64\n",
      " 5   HasCrCard          2000 non-null   float64\n",
      " 6   IsActiveMember     2000 non-null   float64\n",
      " 7   EstimatedSalary    2000 non-null   float64\n",
      " 8   Geography_Germany  2000 non-null   float64\n",
      " 9   Geography_Spain    2000 non-null   float64\n",
      " 10  Gender_Male        2000 non-null   float64\n",
      "dtypes: float64(11)\n",
      "memory usage: 172.0 KB\n"
     ]
    }
   ],
   "source": [
    "new_valid.info()"
   ]
  },
  {
   "cell_type": "markdown",
   "metadata": {},
   "source": [
    "Посмотрим на распределения в валидационной выборке:"
   ]
  },
  {
   "cell_type": "code",
   "execution_count": 19,
   "metadata": {},
   "outputs": [
    {
     "data": {
      "image/png": "[encoded data removed]",
      "text/plain": [
       "<Figure size 1440x1080 with 12 Axes>"
      ]
     },
     "metadata": {
      "needs_background": "light"
     },
     "output_type": "display_data"
    }
   ],
   "source": [
    "new_valid.hist(bins = 50, figsize = (20, 15), edgecolor = 'black', linewidth = 1);"
   ]
  },
  {
   "cell_type": "code",
   "execution_count": 20,
   "metadata": {
    "scrolled": true
   },
   "outputs": [
    {
     "name": "stdout",
     "output_type": "stream",
     "text": [
      "<class 'pandas.core.frame.DataFrame'>\n",
      "RangeIndex: 2000 entries, 0 to 1999\n",
      "Data columns (total 11 columns):\n",
      " #   Column             Non-Null Count  Dtype  \n",
      "---  ------             --------------  -----  \n",
      " 0   CreditScore        2000 non-null   float64\n",
      " 1   Age                2000 non-null   float64\n",
      " 2   Tenure             2000 non-null   float64\n",
      " 3   Balance            2000 non-null   float64\n",
      " 4   NumOfProducts      2000 non-null   float64\n",
      " 5   HasCrCard          2000 non-null   float64\n",
      " 6   IsActiveMember     2000 non-null   float64\n",
      " 7   EstimatedSalary    2000 non-null   float64\n",
      " 8   Geography_Germany  2000 non-null   float64\n",
      " 9   Geography_Spain    2000 non-null   float64\n",
      " 10  Gender_Male        2000 non-null   float64\n",
      "dtypes: float64(11)\n",
      "memory usage: 172.0 KB\n"
     ]
    }
   ],
   "source": [
    "new_test.info()"
   ]
  },
  {
   "cell_type": "markdown",
   "metadata": {},
   "source": [
    "Посмотрим на распределения в тестовой выборке:"
   ]
  },
  {
   "cell_type": "code",
   "execution_count": 21,
   "metadata": {},
   "outputs": [
    {
     "data": {
      "image/png": "[encoded data removed]",
      "text/plain": [
       "<Figure size 1440x1080 with 12 Axes>"
      ]
     },
     "metadata": {
      "needs_background": "light"
     },
     "output_type": "display_data"
    }
   ],
   "source": [
    "new_test.hist(bins = 50, figsize = (20, 15), edgecolor = 'black', linewidth = 1);"
   ]
  },
  {
   "cell_type": "markdown",
   "metadata": {},
   "source": [
    "Пропуски заполнены, распределения похожи. \n",
    "\n",
    "Теперь масштабируем признаки с учетом выбросов."
   ]
  },
  {
   "cell_type": "code",
   "execution_count": 22,
   "metadata": {},
   "outputs": [
    {
     "data": {
      "image/png": "[encoded data removed]",
      "text/plain": [
       "<Figure size 1440x1080 with 12 Axes>"
      ]
     },
     "metadata": {
      "needs_background": "light"
     },
     "output_type": "display_data"
    }
   ],
   "source": [
    "scaler = RobustScaler()\n",
    "\n",
    "numeric = ['CreditScore', 'Age', 'Tenure',  'Balance', 'NumOfProducts', 'EstimatedSalary']\n",
    "\n",
    "scaler.fit(new_train[numeric])\n",
    "\n",
    "new_train[numeric] = scaler.transform(new_train[numeric])\n",
    "new_valid[numeric] = scaler.transform(new_valid[numeric])\n",
    "new_test[numeric] = scaler.transform(new_test[numeric])\n",
    "\n",
    "new_train.hist(bins = 50, figsize = (20, 15), edgecolor = 'black', linewidth = 1);"
   ]
  },
  {
   "cell_type": "markdown",
   "metadata": {},
   "source": [
    "Разбросы стали компактнее)\n",
    "\n",
    "Посмотрим ещё на корреляцию данных на обучающей выборке:"
   ]
  },
  {
   "cell_type": "code",
   "execution_count": 23,
   "metadata": {
    "scrolled": false
   },
   "outputs": [
    {
     "data": {
      "image/png": "[encoded data removed]",
      "text/plain": [
       "<Figure size 1152x1152 with 2 Axes>"
      ]
     },
     "metadata": {
      "needs_background": "light"
     },
     "output_type": "display_data"
    }
   ],
   "source": [
    "new_train_corr = new_train.corr()\n",
    "\n",
    "plt.figure(figsize = (16,16))\n",
    "           \n",
    "sns.heatmap(new_train_corr, annot = True, square = True)\n",
    "plt.title('Матрица корреляций');"
   ]
  },
  {
   "cell_type": "markdown",
   "metadata": {},
   "source": [
    "Ожидаемо баланс на счёте кореллирует с количеством продуктов используемых клиентов. Коллинеарность по странам искусственная. Мультиколлинерности нет."
   ]
  },
  {
   "cell_type": "markdown",
   "metadata": {},
   "source": [
    "###  Вывод\n",
    "\n",
    "В ходе подготовки данных был изучен полный набор. Дубликатов не обнаружено. Данные приведены к нужным типам. Пропуски присутсвовали только в одном столбце – **Tenure** (сколько лет человек является клиентом банка). В категориальных признаках аномальных значений не обнаружено. Два пола и три страны. \n",
    "\n",
    "Видны выбросы в призниках кредитного рейтинга, возраста, баланса. Также в явном виде можно отметить дисбаланс в целевом признаке. \n",
    "\n",
    "Далее исходные данные были разделены на обучающую, валидационную и тестовую выборки в отношении 3:1:1.\n",
    "\n",
    "После разделения были закодированы категориальные признаки, заполнены пропуски и масштабированы признаки с учетом выбросов.\n",
    "\n",
    "Использовались методы из библиотеки **sklearn**, чтобы избежать утечки данных кодировщики обучались на обучающей выборке. "
   ]
  },
  {
   "cell_type": "markdown",
   "metadata": {},
   "source": [
    "## Исследование задачи"
   ]
  },
  {
   "cell_type": "markdown",
   "metadata": {},
   "source": [
    "### Исследование баланса классов"
   ]
  },
  {
   "cell_type": "markdown",
   "metadata": {},
   "source": [
    "Проверим, как часто в целевом признаке встречается класс «1» или «0». Проверим все выборки:"
   ]
  },
  {
   "cell_type": "code",
   "execution_count": 24,
   "metadata": {},
   "outputs": [
    {
     "data": {
      "image/png": "[encoded data removed]",
      "text/plain": [
       "<Figure size 432x288 with 1 Axes>"
      ]
     },
     "metadata": {
      "needs_background": "light"
     },
     "output_type": "display_data"
    }
   ],
   "source": [
    "target_train.value_counts(normalize = True).plot(kind = 'bar');"
   ]
  },
  {
   "cell_type": "code",
   "execution_count": 25,
   "metadata": {},
   "outputs": [
    {
     "data": {
      "image/png": "[encoded data removed]",
      "text/plain": [
       "<Figure size 432x288 with 1 Axes>"
      ]
     },
     "metadata": {
      "needs_background": "light"
     },
     "output_type": "display_data"
    }
   ],
   "source": [
    "target_valid.value_counts(normalize = True).plot(kind = 'bar');"
   ]
  },
  {
   "cell_type": "code",
   "execution_count": 26,
   "metadata": {},
   "outputs": [
    {
     "data": {
      "image/png": "[encoded data removed]",
      "text/plain": [
       "<Figure size 432x288 with 1 Axes>"
      ]
     },
     "metadata": {
      "needs_background": "light"
     },
     "output_type": "display_data"
    }
   ],
   "source": [
    "target_test.value_counts(normalize = True).plot(kind = 'bar');"
   ]
  },
  {
   "cell_type": "markdown",
   "metadata": {},
   "source": [
    "Дисбаланс классов присутсвует во всех выборках. \n",
    "\n",
    "Изучим модели без учёта дисбаланса. Мы решаем задачу классификации, поэтому будем использовать Логистическую регрессию, Дерево решений и Случайный лес. \n",
    "\n",
    "Для оценки моделей будем использовать **F1-меру**. Это среднее гармоническое полноты и точности. Единица в F1 означает, что соотношение полноты и точности равно 1:1. \n",
    "\n",
    "В свою очередь:\n",
    "- Полнота выявляет, какую долю положительных среди всех ответов выделила модель.\n",
    "- Точность определяет, как много отрицательных ответов нашла модель, пока искала положительные.\n",
    "\n",
    "Accuracy как доля правильных ответов тут, при дисбалансе классов, не информативный показатель.\n",
    "\n",
    "Так же добавим оценку AUC-ROC - значения изменяются от 0 до 1 и чем выше, тем лучше качество модели. "
   ]
  },
  {
   "cell_type": "markdown",
   "metadata": {},
   "source": [
    "### Логистическая регрессия"
   ]
  },
  {
   "cell_type": "code",
   "execution_count": 27,
   "metadata": {},
   "outputs": [
    {
     "name": "stdout",
     "output_type": "stream",
     "text": [
      "Accuracy модели: 0.8165\n",
      "Полнота модели: 0.2\n",
      "Точность модели: 0.5467625899280576\n",
      "F1-мера модели: 0.2928709055876686\n",
      "AUC-ROC модели: 0.7520532813515269\n"
     ]
    }
   ],
   "source": [
    "model = LogisticRegression(random_state = 42)\n",
    "\n",
    "model.fit(new_train, target_train)\n",
    "\n",
    "probabilities_valid = model.predict_proba(new_valid)\n",
    "probabilities_one_valid = probabilities_valid[:, 1]\n",
    "\n",
    "predictions = model.predict(new_valid)\n",
    "\n",
    "result_LogisticRegression = f1_score(target_valid, predictions)\n",
    "\n",
    "roc_auc_LogisticRegression = roc_auc_score(target_valid, probabilities_one_valid)\n",
    "\n",
    "print('Accuracy модели:', accuracy_score(target_valid, predictions))\n",
    "print('Полнота модели:', recall_score(target_valid, predictions))\n",
    "print('Точность модели:', precision_score(target_valid, predictions))\n",
    "print('F1-мера модели:', result_LogisticRegression)\n",
    "print('AUC-ROC модели:', roc_auc_LogisticRegression)"
   ]
  },
  {
   "cell_type": "markdown",
   "metadata": {},
   "source": [
    "Видим, что доля правильных ответов велика, но другие метрики низкие.  \n",
    "\n",
    "Построим матрицу ошибок. "
   ]
  },
  {
   "cell_type": "code",
   "execution_count": 28,
   "metadata": {
    "scrolled": true
   },
   "outputs": [
    {
     "data": {
      "text/plain": [
       "array([[1557,   63],\n",
       "       [ 304,   76]])"
      ]
     },
     "execution_count": 28,
     "metadata": {},
     "output_type": "execute_result"
    }
   ],
   "source": [
    "confusion_matrix(target_valid, predictions)"
   ]
  },
  {
   "cell_type": "markdown",
   "metadata": {},
   "source": [
    "Имеем, что модель склонна делать много ложноотрицательных ответов. Модель предсказывает, что клиент банка останется, а по итогу он уходит, что нежелательно сказывается на задаче сохранения клиентов. "
   ]
  },
  {
   "cell_type": "markdown",
   "metadata": {},
   "source": [
    "### Дерево решений"
   ]
  },
  {
   "cell_type": "code",
   "execution_count": 29,
   "metadata": {},
   "outputs": [
    {
     "name": "stdout",
     "output_type": "stream",
     "text": [
      "AUC-ROC модели: 0.8021962313190383 , F1-мера лучшей модели: 0.5228758169934641 при глубине: 6\n",
      "Матрица ошибок:\n",
      "[[1548   72]\n",
      " [ 220  160]]\n"
     ]
    }
   ],
   "source": [
    "best_model_DecisionTree = None\n",
    "best_result_DecisionTree = 0\n",
    "depth_DecisionTree = 0\n",
    "for depth in range(1, 10):\n",
    "    model = DecisionTreeClassifier(random_state = 42, max_depth = depth)\n",
    "    model.fit(new_train, target_train) \n",
    "    probabilities_valid = model.predict_proba(new_valid)\n",
    "    probabilities_one_valid = probabilities_valid[:, 1]\n",
    "    predictions = model.predict(new_valid) \n",
    "    result = f1_score(target_valid, predictions)\n",
    "    roc_auc = roc_auc_score(target_valid, probabilities_one_valid)\n",
    "    if result > best_result_DecisionTree:\n",
    "        best_model_DecisionTree = model\n",
    "        best_result_DecisionTree = result\n",
    "        depth_DecisionTree = depth\n",
    "        DecisionTree_matrix = confusion_matrix(target_valid, predictions)\n",
    "        DecisionTree_roc_auc = roc_auc\n",
    "\n",
    "print('AUC-ROC модели:', DecisionTree_roc_auc, ', F1-мера лучшей модели:', best_result_DecisionTree, \n",
    "      'при глубине:', depth_DecisionTree)\n",
    "print('Матрица ошибок:', DecisionTree_matrix, sep = '\\n')"
   ]
  },
  {
   "cell_type": "markdown",
   "metadata": {},
   "source": [
    "Данная модель также склонна к ложноотрицательным ответам.\n",
    "F1-мера приблизилась к целевой (0.59), но все ещё не достаточна."
   ]
  },
  {
   "cell_type": "markdown",
   "metadata": {},
   "source": [
    "### Случайный лес"
   ]
  },
  {
   "cell_type": "code",
   "execution_count": 30,
   "metadata": {},
   "outputs": [
    {
     "name": "stdout",
     "output_type": "stream",
     "text": [
      "AUC-ROC модели: 0.8210607537361925 , F1-мера лучшей модели: 0.5709779179810726 при числе деревьев: 17 при глубине: 19\n",
      "Матрица ошибок:\n",
      "[[1547   73]\n",
      " [ 199  181]]\n"
     ]
    }
   ],
   "source": [
    "best_model_RandomForestClassifier = None\n",
    "best_result_RandomForestClassifier = 0\n",
    "est_RandomForestClassifier = 0\n",
    "for est in range(1, 30):\n",
    "    for depth in range(1, 30):\n",
    "        model = RandomForestClassifier(random_state = 42, n_estimators = est, max_depth = depth) \n",
    "        model.fit(new_train, target_train)\n",
    "        probabilities_valid = model.predict_proba(new_valid)\n",
    "        probabilities_one_valid = probabilities_valid[:, 1]\n",
    "        predictions = model.predict(new_valid) \n",
    "        result = f1_score(target_valid, predictions)\n",
    "        roc_auc = roc_auc_score(target_valid, probabilities_one_valid)\n",
    "        if result > best_result_RandomForestClassifier:\n",
    "            best_model_RandomForestClassifier = model \n",
    "            best_result_RandomForestClassifier = result\n",
    "            est_RandomForestClassifier = est\n",
    "            depth_RandomForestClassifier = depth\n",
    "            RandomForestClassifier_matrix = confusion_matrix(target_valid, predictions)\n",
    "            RandomForestClassifier_roc_auc = roc_auc\n",
    "        \n",
    "print('AUC-ROC модели:', RandomForestClassifier_roc_auc, ', F1-мера лучшей модели:', best_result_RandomForestClassifier, \n",
    "      'при числе деревьев:', est_RandomForestClassifier, 'при глубине:', depth_RandomForestClassifier)\n",
    "print('Матрица ошибок:', RandomForestClassifier_matrix, sep = '\\n')"
   ]
  },
  {
   "cell_type": "markdown",
   "metadata": {},
   "source": [
    "Данная модель также склонна к ложноотрицательным ответам. F1-мера ещё приблизилась к целевой (0.59), но не достаточна.\n",
    "\n",
    "AUC-ROC высока и растет от модели к модели, возможно, потому что устойчива к дисбалансу классов. Предоставляет информацию о способности модели предсказывать вероятности и разделять классы. Чем ближе значение AUC-ROC к 1, тем лучше модель. "
   ]
  },
  {
   "cell_type": "markdown",
   "metadata": {},
   "source": [
    "###  Вывод\n",
    "\n",
    "Без учёта дисбаланса классов модели склонны к ложноотрицательным ответам, это отрицательно влияет на решение задачи по удержанию клиентов, так как модель предсказывает, что клиент останется, когда на самом деле он уходит. "
   ]
  },
  {
   "cell_type": "markdown",
   "metadata": {},
   "source": [
    "## Борьба с дисбалансом"
   ]
  },
  {
   "cell_type": "markdown",
   "metadata": {},
   "source": [
    "Посмотрим на несколько способов борьбы с дисбалансом. "
   ]
  },
  {
   "cell_type": "markdown",
   "metadata": {},
   "source": [
    "### Взвешивание классов\n",
    "\n",
    "Начнём с простого, добавим новый аргумент **class_weight = 'balanced'** в каждую модель. "
   ]
  },
  {
   "cell_type": "markdown",
   "metadata": {},
   "source": [
    "#### Логистическая регрессия"
   ]
  },
  {
   "cell_type": "code",
   "execution_count": 31,
   "metadata": {},
   "outputs": [
    {
     "name": "stdout",
     "output_type": "stream",
     "text": [
      "Матрица ошибок:\n",
      "[[1123  497]\n",
      " [ 117  263]]\n",
      "F1-мера модели: 0.46140350877192987\n",
      "AUC-ROC модели: 0.7528167641325537\n"
     ]
    }
   ],
   "source": [
    "model = LogisticRegression(random_state = 42, class_weight = 'balanced')\n",
    "\n",
    "model.fit(new_train, target_train)\n",
    "\n",
    "probabilities_valid = model.predict_proba(new_valid)\n",
    "probabilities_one_valid = probabilities_valid[:, 1]\n",
    "\n",
    "predictions = model.predict(new_valid)\n",
    "\n",
    "result_LogisticRegression_with_class_weight_balanced = f1_score(target_valid, predictions)\n",
    "\n",
    "roc_auc_LogisticRegression_with_class_weight_balanced = roc_auc_score(target_valid, probabilities_one_valid)\n",
    "\n",
    "print('Матрица ошибок:', confusion_matrix(target_valid, predictions), sep = '\\n')\n",
    "print('F1-мера модели:', result_LogisticRegression_with_class_weight_balanced)\n",
    "print('AUC-ROC модели:', roc_auc_LogisticRegression_with_class_weight_balanced)"
   ]
  },
  {
   "cell_type": "markdown",
   "metadata": {},
   "source": [
    "Увеличилось количество ложноположительных ответов, F1-мера подросла, AUC-ROC изменился незначительно. "
   ]
  },
  {
   "cell_type": "markdown",
   "metadata": {},
   "source": [
    "#### Дерево решений"
   ]
  },
  {
   "cell_type": "code",
   "execution_count": 32,
   "metadata": {},
   "outputs": [
    {
     "name": "stdout",
     "output_type": "stream",
     "text": [
      "AUC-ROC модели: 0.801246751137102 , F1-мера лучшей модели: 0.5529542920847269 при глубине: 7\n",
      "Матрица ошибок:\n",
      "[[1351  269]\n",
      " [ 132  248]]\n"
     ]
    }
   ],
   "source": [
    "best_model_DecisionTree_with_class_weight_balanced = None\n",
    "best_result_DecisionTree_with_class_weight_balanced = 0\n",
    "depth_DecisionTree_with_class_weight_balanced = 0\n",
    "for depth in range(1, 10):\n",
    "    model = DecisionTreeClassifier(random_state = 42, max_depth = depth, class_weight = 'balanced')\n",
    "    model.fit(new_train, target_train) \n",
    "    probabilities_valid = model.predict_proba(new_valid)\n",
    "    probabilities_one_valid = probabilities_valid[:, 1]\n",
    "    predictions = model.predict(new_valid) \n",
    "    result = f1_score(target_valid, predictions)\n",
    "    roc_auc = roc_auc_score(target_valid, probabilities_one_valid)\n",
    "    if result > best_result_DecisionTree_with_class_weight_balanced:\n",
    "        best_model_DecisionTree_with_class_weight_balanced = model\n",
    "        best_result_DecisionTree_with_class_weight_balanced = result\n",
    "        depth_DecisionTree_with_class_weight_balanced = depth\n",
    "        DecisionTree_matrix_with_class_weight_balanced = confusion_matrix(target_valid, predictions)\n",
    "        DecisionTree_roc_auc_with_class_weight_balanced = roc_auc\n",
    "\n",
    "print('AUC-ROC модели:', DecisionTree_roc_auc_with_class_weight_balanced, \n",
    "      ', F1-мера лучшей модели:', best_result_DecisionTree_with_class_weight_balanced, \n",
    "      'при глубине:', depth_DecisionTree_with_class_weight_balanced)\n",
    "print('Матрица ошибок:', DecisionTree_matrix_with_class_weight_balanced, sep = '\\n')"
   ]
  },
  {
   "cell_type": "markdown",
   "metadata": {},
   "source": [
    "Метрики подросли, увеличилось количество ложноположительных ответов."
   ]
  },
  {
   "cell_type": "markdown",
   "metadata": {},
   "source": [
    "#### Случайный лес"
   ]
  },
  {
   "cell_type": "code",
   "execution_count": 33,
   "metadata": {},
   "outputs": [
    {
     "name": "stdout",
     "output_type": "stream",
     "text": [
      "AUC-ROC модели: 0.8392958089668616 , F1-мера лучшей модели: 0.5883870967741934 при числе деревьев: 19 при глубине: 10\n",
      "Матрица ошибок:\n",
      "[[1453  167]\n",
      " [ 152  228]]\n"
     ]
    }
   ],
   "source": [
    "best_model_RandomForestClassifier_with_class_weight_balanced = None\n",
    "best_result_RandomForestClassifier_with_class_weight_balanced = 0\n",
    "est_RandomForestClassifier = 0\n",
    "for est in range(1, 30):\n",
    "    for depth in range(1, 30):\n",
    "        model = RandomForestClassifier(random_state = 42, n_estimators = est, max_depth = depth, class_weight = 'balanced') \n",
    "        model.fit(new_train, target_train)\n",
    "        probabilities_valid = model.predict_proba(new_valid)\n",
    "        probabilities_one_valid = probabilities_valid[:, 1]\n",
    "        predictions = model.predict(new_valid) \n",
    "        result = f1_score(target_valid, predictions)\n",
    "        roc_auc = roc_auc_score(target_valid, probabilities_one_valid)\n",
    "        if result > best_result_RandomForestClassifier_with_class_weight_balanced:\n",
    "            best_model_RandomForestClassifier_with_class_weight_balanced = model \n",
    "            best_result_RandomForestClassifier_with_class_weight_balanced = result\n",
    "            est_RandomForestClassifier = est\n",
    "            depth_RandomForestClassifier = depth\n",
    "            RandomForestClassifier_matrix = confusion_matrix(target_valid, predictions)\n",
    "            RandomForestClassifier_roc_auc_with_class_weight_balanced = roc_auc\n",
    "        \n",
    "print('AUC-ROC модели:', RandomForestClassifier_roc_auc_with_class_weight_balanced, \n",
    "      ', F1-мера лучшей модели:', best_result_RandomForestClassifier_with_class_weight_balanced, \n",
    "      'при числе деревьев:',  est_RandomForestClassifier, 'при глубине:', depth_RandomForestClassifier)\n",
    "print('Матрица ошибок:', RandomForestClassifier_matrix, sep = '\\n')\n"
   ]
  },
  {
   "cell_type": "markdown",
   "metadata": {},
   "source": [
    "Отлично, с учетом округления мы добились целевого показателя F1-меры = 0.59. "
   ]
  },
  {
   "cell_type": "markdown",
   "metadata": {},
   "source": [
    "### Увеличение выборки\n",
    "\n",
    "Попробуем технику **upsampling**.\n",
    "\n",
    "Преобразование проходит в несколько этапов:\n",
    "- Разделить обучающую выборку на отрицательные и положительные объекты;\n",
    "- Скопировать несколько раз положительные объекты;\n",
    "- С учётом полученных данных создать новую обучающую выборку;\n",
    "- Перемешать данные: идущие друг за другом одинаковые вопросы не помогут обучению.\n",
    "\n",
    "Подготовим новые выборки:"
   ]
  },
  {
   "cell_type": "code",
   "execution_count": 34,
   "metadata": {},
   "outputs": [],
   "source": [
    "features_zeros = new_train[target_train == 0]\n",
    "features_ones = new_train[target_train == 1]\n",
    "target_zeros = target_train[target_train == 0]\n",
    "target_ones = target_train[target_train == 1]\n",
    "\n",
    "features_upsampled = pd.concat([features_zeros] + [features_ones] * 4)\n",
    "target_upsampled = pd.concat([target_zeros] + [target_ones] * 4)\n",
    "    \n",
    "features_upsampled, target_upsampled = shuffle(features_upsampled, target_upsampled, random_state = 42)"
   ]
  },
  {
   "cell_type": "markdown",
   "metadata": {},
   "source": [
    "#### Логистическая регрессия"
   ]
  },
  {
   "cell_type": "code",
   "execution_count": 35,
   "metadata": {},
   "outputs": [
    {
     "name": "stdout",
     "output_type": "stream",
     "text": [
      "Матрица ошибок:\n",
      "[[1557   63]\n",
      " [ 208  172]]\n",
      "F1-мера модели: 0.5593495934959349\n",
      "AUC-ROC модели: 0.7528622482131254\n"
     ]
    }
   ],
   "source": [
    "model = LogisticRegression(random_state = 42)\n",
    "model.fit(features_upsampled, target_upsampled)\n",
    "\n",
    "predicted_valid = model.predict(new_valid)\n",
    "\n",
    "probabilities_valid = model.predict_proba(new_valid)\n",
    "probabilities_one_valid = probabilities_valid[:, 1]\n",
    "\n",
    "result_LogisticRegression_with_upsampling = f1_score(target_valid, predictions)\n",
    "\n",
    "roc_auc_LogisticRegression_with_upsampling = roc_auc_score(target_valid, probabilities_one_valid)\n",
    "\n",
    "print('Матрица ошибок:', confusion_matrix(target_valid, predictions), sep = '\\n')\n",
    "print('F1-мера модели:', result_LogisticRegression_with_upsampling)\n",
    "print('AUC-ROC модели:', roc_auc_LogisticRegression_with_upsampling)\n"
   ]
  },
  {
   "cell_type": "markdown",
   "metadata": {},
   "source": [
    "#### Дерево решений"
   ]
  },
  {
   "cell_type": "code",
   "execution_count": 36,
   "metadata": {},
   "outputs": [
    {
     "name": "stdout",
     "output_type": "stream",
     "text": [
      "AUC-ROC модели: 0.801940383365822 , F1-мера лучшей модели: 0.5533333333333333 при глубине: 7\n",
      "Матрица ошибок:\n",
      "[[1349  271]\n",
      " [ 131  249]]\n"
     ]
    }
   ],
   "source": [
    "best_model_DecisionTree_with_upsampling = None\n",
    "best_result_DecisionTree_with_upsampling = 0\n",
    "depth_DecisionTree_with_upsampling = 0\n",
    "for depth in range(1, 10):\n",
    "    model = DecisionTreeClassifier(random_state = 42, max_depth = depth)\n",
    "    model.fit(features_upsampled, target_upsampled)\n",
    "    probabilities_valid = model.predict_proba(new_valid)\n",
    "    probabilities_one_valid = probabilities_valid[:, 1]\n",
    "    predictions = model.predict(new_valid) \n",
    "    result = f1_score(target_valid, predictions)\n",
    "    roc_auc = roc_auc_score(target_valid, probabilities_one_valid)\n",
    "    if result > best_result_DecisionTree_with_upsampling:\n",
    "        best_model_DecisionTree_with_upsampling = model\n",
    "        best_result_DecisionTree_with_upsampling = result\n",
    "        depth_DecisionTree_with_upsampling = depth\n",
    "        DecisionTree_matrix_with_upsampling = confusion_matrix(target_valid, predictions)\n",
    "        DecisionTree_roc_auc_with_upsampling = roc_auc\n",
    "\n",
    "print('AUC-ROC модели:', DecisionTree_roc_auc_with_upsampling, \n",
    "      ', F1-мера лучшей модели:', best_result_DecisionTree_with_upsampling, \n",
    "      'при глубине:', depth_DecisionTree_with_upsampling)\n",
    "print('Матрица ошибок:', DecisionTree_matrix_with_upsampling, sep = '\\n')"
   ]
  },
  {
   "cell_type": "markdown",
   "metadata": {},
   "source": [
    "#### Случайный лес"
   ]
  },
  {
   "cell_type": "code",
   "execution_count": 37,
   "metadata": {},
   "outputs": [
    {
     "name": "stdout",
     "output_type": "stream",
     "text": [
      "AUC-ROC модели: 0.8273822287199479 , F1-мера лучшей модели: 0.5817727840199751 при числе деревьев: 24 при глубине: 13\n",
      "Матрица ошибок:\n",
      "[[1432  188]\n",
      " [ 147  233]]\n"
     ]
    }
   ],
   "source": [
    "best_model_RandomForestClassifier_with_upsampling = None\n",
    "best_result_RandomForestClassifier_with_upsampling = 0\n",
    "est_RandomForestClassifier = 0\n",
    "for est in range(1, 30):\n",
    "    for depth in range(1, 30):\n",
    "        model = RandomForestClassifier(random_state = 42, n_estimators = est, max_depth = depth) \n",
    "        model.fit(features_upsampled, target_upsampled)\n",
    "        probabilities_valid = model.predict_proba(new_valid)\n",
    "        probabilities_one_valid = probabilities_valid[:, 1]\n",
    "        predictions = model.predict(new_valid) \n",
    "        result = f1_score(target_valid, predictions)\n",
    "        roc_auc = roc_auc_score(target_valid, probabilities_one_valid)\n",
    "        if result > best_result_RandomForestClassifier_with_upsampling:\n",
    "            best_model_RandomForestClassifier_with_upsampling = model \n",
    "            best_result_RandomForestClassifier_with_upsampling = result\n",
    "            est_RandomForestClassifier = est\n",
    "            depth_RandomForestClassifier = depth\n",
    "            RandomForestClassifier_matrix = confusion_matrix(target_valid, predictions)\n",
    "            RandomForestClassifier_roc_auc_with_upsampling = roc_auc\n",
    "        \n",
    "print('AUC-ROC модели:', RandomForestClassifier_roc_auc_with_upsampling, \n",
    "      ', F1-мера лучшей модели:', best_result_RandomForestClassifier_with_upsampling, \n",
    "      'при числе деревьев:',  est_RandomForestClassifier, 'при глубине:', depth_RandomForestClassifier)\n",
    "print('Матрица ошибок:', RandomForestClassifier_matrix, sep = '\\n')\n"
   ]
  },
  {
   "cell_type": "markdown",
   "metadata": {},
   "source": [
    "### Уменьшение выборки\n",
    "\n",
    "Попробуем технику **downsampling**.\n",
    "\n",
    "Преобразование проходит в несколько этапов:\n",
    "- Разделить обучающую выборку на отрицательные и положительные объекты;\n",
    "- Случайным образом отбросить часть из отрицательных объектов;\n",
    "- С учётом полученных данных создать новую обучающую выборку;\n",
    "- Перемешать данные. Положительные не должны идти следом за отрицательными: алгоритмам будет сложнее обучаться.\n",
    "\n",
    "Подготовим новые выборки:"
   ]
  },
  {
   "cell_type": "code",
   "execution_count": 38,
   "metadata": {},
   "outputs": [],
   "source": [
    "features_downsampled = pd.concat([features_zeros.sample(frac=0.25, random_state=42)] + [features_ones])\n",
    "\n",
    "target_downsampled = pd.concat([target_zeros.sample(frac=0.25, random_state=42)] + [target_ones])\n",
    "    \n",
    "features_downsampled, target_downsampled = shuffle(features_downsampled, target_downsampled, random_state = 42)\n",
    "    "
   ]
  },
  {
   "cell_type": "markdown",
   "metadata": {},
   "source": [
    "#### Логистическая регрессия"
   ]
  },
  {
   "cell_type": "code",
   "execution_count": 39,
   "metadata": {},
   "outputs": [
    {
     "name": "stdout",
     "output_type": "stream",
     "text": [
      "Матрица ошибок:\n",
      "[[1486  134]\n",
      " [ 181  199]]\n",
      "F1-мера модели: 0.5582047685834501\n",
      "AUC-ROC модели: 0.750485705003249\n"
     ]
    }
   ],
   "source": [
    "model = LogisticRegression(random_state = 42)\n",
    "model.fit(features_downsampled, target_downsampled)\n",
    "\n",
    "predicted_valid = model.predict(new_valid)\n",
    "\n",
    "probabilities_valid = model.predict_proba(new_valid)\n",
    "probabilities_one_valid = probabilities_valid[:, 1]\n",
    "\n",
    "result_LogisticRegression_with_downsampling = f1_score(target_valid, predictions)\n",
    "\n",
    "roc_auc_LogisticRegression_with_downsampling = roc_auc_score(target_valid, probabilities_one_valid)\n",
    "\n",
    "print('Матрица ошибок:', confusion_matrix(target_valid, predictions), sep = '\\n')\n",
    "print('F1-мера модели:', result_LogisticRegression_with_downsampling)\n",
    "print('AUC-ROC модели:', roc_auc_LogisticRegression_with_downsampling)\n"
   ]
  },
  {
   "cell_type": "markdown",
   "metadata": {},
   "source": [
    "#### Дерево решений"
   ]
  },
  {
   "cell_type": "code",
   "execution_count": 40,
   "metadata": {},
   "outputs": [
    {
     "name": "stdout",
     "output_type": "stream",
     "text": [
      "AUC-ROC модели: 0.7735802469135803 , F1-мера лучшей модели: 0.5193621867881548 при глубине: 3\n",
      "Матрица ошибок:\n",
      "[[1350  270]\n",
      " [ 152  228]]\n"
     ]
    }
   ],
   "source": [
    "best_model_DecisionTree_with_downsampling = None\n",
    "best_result_DecisionTree_with_downsampling = 0\n",
    "depth_DecisionTree_with_downsampling = 0\n",
    "for depth in range(1, 10):\n",
    "    model = DecisionTreeClassifier(random_state = 42, max_depth = depth)\n",
    "    model.fit(features_downsampled, target_downsampled)\n",
    "    probabilities_valid = model.predict_proba(new_valid)\n",
    "    probabilities_one_valid = probabilities_valid[:, 1]\n",
    "    predictions = model.predict(new_valid) \n",
    "    result = f1_score(target_valid, predictions)\n",
    "    roc_auc = roc_auc_score(target_valid, probabilities_one_valid)\n",
    "    if result > best_result_DecisionTree_with_downsampling:\n",
    "        best_model_DecisionTree_with_downsampling = model\n",
    "        best_result_DecisionTree_with_downsampling = result\n",
    "        depth_DecisionTree_with_downsampling = depth\n",
    "        DecisionTree_matrix_with_downsampling = confusion_matrix(target_valid, predictions)\n",
    "        DecisionTree_roc_auc_with_downsampling = roc_auc\n",
    "\n",
    "print('AUC-ROC модели:', DecisionTree_roc_auc_with_downsampling, \n",
    "      ', F1-мера лучшей модели:', best_result_DecisionTree_with_downsampling, \n",
    "      'при глубине:', depth_DecisionTree_with_downsampling)\n",
    "print('Матрица ошибок:', DecisionTree_matrix_with_downsampling, sep = '\\n')"
   ]
  },
  {
   "cell_type": "markdown",
   "metadata": {},
   "source": [
    "#### Случайный лес"
   ]
  },
  {
   "cell_type": "code",
   "execution_count": 41,
   "metadata": {},
   "outputs": [
    {
     "name": "stdout",
     "output_type": "stream",
     "text": [
      "AUC-ROC модели: 0.838388564002599 , F1-мера лучшей модели: 0.5637450199203188 при числе деревьев: 27 при глубине: 9\n",
      "Матрица ошибок:\n",
      "[[1279  341]\n",
      " [  97  283]]\n"
     ]
    }
   ],
   "source": [
    "best_model_RandomForestClassifier_with_downsampling = None\n",
    "best_result_RandomForestClassifier_with_downsampling = 0\n",
    "est_RandomForestClassifier = 0\n",
    "for est in range(1, 30):\n",
    "    for depth in range(1, 30):\n",
    "        model = RandomForestClassifier(random_state = 42, n_estimators = est, max_depth = depth) \n",
    "        model.fit(features_downsampled, target_downsampled)\n",
    "        probabilities_valid = model.predict_proba(new_valid)\n",
    "        probabilities_one_valid = probabilities_valid[:, 1]\n",
    "        predictions = model.predict(new_valid) \n",
    "        result = f1_score(target_valid, predictions)\n",
    "        roc_auc = roc_auc_score(target_valid, probabilities_one_valid)\n",
    "        if result > best_result_RandomForestClassifier_with_downsampling:\n",
    "            best_model_RandomForestClassifier_with_downsampling = model \n",
    "            best_result_RandomForestClassifier_with_downsampling = result\n",
    "            est_RandomForestClassifier = est\n",
    "            depth_RandomForestClassifier = depth\n",
    "            RandomForestClassifier_matrix = confusion_matrix(target_valid, predictions)\n",
    "            RandomForestClassifier_roc_auc_with_downsampling = roc_auc\n",
    "        \n",
    "print('AUC-ROC модели:', RandomForestClassifier_roc_auc_with_downsampling, \n",
    "      ', F1-мера лучшей модели:', best_result_RandomForestClassifier_with_downsampling, \n",
    "      'при числе деревьев:',  est_RandomForestClassifier, 'при глубине:', depth_RandomForestClassifier)\n",
    "print('Матрица ошибок:', RandomForestClassifier_matrix, sep = '\\n')\n"
   ]
  },
  {
   "cell_type": "markdown",
   "metadata": {},
   "source": [
    "###  Вывод\n",
    "\n",
    "Как менялась F1-мера Логистической регрессии:"
   ]
  },
  {
   "cell_type": "code",
   "execution_count": 42,
   "metadata": {},
   "outputs": [
    {
     "name": "stdout",
     "output_type": "stream",
     "text": [
      "Без учёта дисбаланса классов:  0.2928709055876686\n",
      "С учётом дисбаланса классов - Взвешивание классов:  0.46140350877192987\n",
      "С учётом дисбаланса классов - Увеличение выборки:  0.5593495934959349\n",
      "С учётом дисбаланса классов - Уменьшение выборки:  0.5582047685834501\n"
     ]
    }
   ],
   "source": [
    "print('Без учёта дисбаланса классов: ', result_LogisticRegression)\n",
    "print('С учётом дисбаланса классов - Взвешивание классов: ', result_LogisticRegression_with_class_weight_balanced)\n",
    "print('С учётом дисбаланса классов - Увеличение выборки: ', result_LogisticRegression_with_upsampling)\n",
    "print('С учётом дисбаланса классов - Уменьшение выборки: ', result_LogisticRegression_with_downsampling)"
   ]
  },
  {
   "cell_type": "markdown",
   "metadata": {},
   "source": [
    "Как менялась F1-мера Дерева решений:"
   ]
  },
  {
   "cell_type": "code",
   "execution_count": 43,
   "metadata": {},
   "outputs": [
    {
     "name": "stdout",
     "output_type": "stream",
     "text": [
      "Без учёта дисбаланса классов:  0.5228758169934641\n",
      "С учётом дисбаланса классов - Взвешивание классов:  0.5529542920847269\n",
      "С учётом дисбаланса классов - Увеличение выборки:  0.5533333333333333\n",
      "С учётом дисбаланса классов - Уменьшение выборки:  0.5193621867881548\n"
     ]
    }
   ],
   "source": [
    "print('Без учёта дисбаланса классов: ', best_result_DecisionTree)\n",
    "print('С учётом дисбаланса классов - Взвешивание классов: ', best_result_DecisionTree_with_class_weight_balanced)\n",
    "print('С учётом дисбаланса классов - Увеличение выборки: ', best_result_DecisionTree_with_upsampling)\n",
    "print('С учётом дисбаланса классов - Уменьшение выборки: ', best_result_DecisionTree_with_downsampling)"
   ]
  },
  {
   "cell_type": "markdown",
   "metadata": {},
   "source": [
    "Как менялась F1-мера Случайного леса:"
   ]
  },
  {
   "cell_type": "code",
   "execution_count": 44,
   "metadata": {},
   "outputs": [
    {
     "name": "stdout",
     "output_type": "stream",
     "text": [
      "Без учёта дисбаланса классов:  0.5709779179810726\n",
      "С учётом дисбаланса классов - Взвешивание классов:  0.5883870967741934\n",
      "С учётом дисбаланса классов - Увеличение выборки:  0.5817727840199751\n",
      "С учётом дисбаланса классов - Уменьшение выборки:  0.5637450199203188\n"
     ]
    }
   ],
   "source": [
    "print('Без учёта дисбаланса классов: ', best_result_RandomForestClassifier)\n",
    "print('С учётом дисбаланса классов - Взвешивание классов: ', best_result_RandomForestClassifier_with_class_weight_balanced)\n",
    "print('С учётом дисбаланса классов - Увеличение выборки: ', best_result_RandomForestClassifier_with_upsampling)\n",
    "print('С учётом дисбаланса классов - Уменьшение выборки: ', best_result_RandomForestClassifier_with_downsampling)"
   ]
  },
  {
   "cell_type": "markdown",
   "metadata": {},
   "source": [
    "Лучший результат по F1-мере показала модель Случайного леса с учётом дисбаланса классов, когда использовалось взвешивание классов. \n",
    "\n",
    "Теперь посмотрим как менялась метрика AUC-ROC Логистической регрессии:"
   ]
  },
  {
   "cell_type": "code",
   "execution_count": 45,
   "metadata": {},
   "outputs": [
    {
     "name": "stdout",
     "output_type": "stream",
     "text": [
      "Без учёта дисбаланса классов:  0.7520532813515269\n",
      "С учётом дисбаланса классов - Взвешивание классов:  0.7528167641325537\n",
      "С учётом дисбаланса классов - Увеличение выборки:  0.7528622482131254\n",
      "С учётом дисбаланса классов - Уменьшение выборки:  0.750485705003249\n"
     ]
    }
   ],
   "source": [
    "print('Без учёта дисбаланса классов: ', roc_auc_LogisticRegression)\n",
    "print('С учётом дисбаланса классов - Взвешивание классов: ', roc_auc_LogisticRegression_with_class_weight_balanced)\n",
    "print('С учётом дисбаланса классов - Увеличение выборки: ', roc_auc_LogisticRegression_with_upsampling)\n",
    "print('С учётом дисбаланса классов - Уменьшение выборки: ', roc_auc_LogisticRegression_with_downsampling)"
   ]
  },
  {
   "cell_type": "markdown",
   "metadata": {},
   "source": [
    "Как менялась метрика AUC-ROC Дерева решений:"
   ]
  },
  {
   "cell_type": "code",
   "execution_count": 46,
   "metadata": {},
   "outputs": [
    {
     "name": "stdout",
     "output_type": "stream",
     "text": [
      "Без учёта дисбаланса классов:  0.8021962313190383\n",
      "С учётом дисбаланса классов - Взвешивание классов:  0.801246751137102\n",
      "С учётом дисбаланса классов - Увеличение выборки:  0.801940383365822\n",
      "С учётом дисбаланса классов - Уменьшение выборки:  0.7735802469135803\n"
     ]
    }
   ],
   "source": [
    "print('Без учёта дисбаланса классов: ', DecisionTree_roc_auc)\n",
    "print('С учётом дисбаланса классов - Взвешивание классов: ', DecisionTree_roc_auc_with_class_weight_balanced)\n",
    "print('С учётом дисбаланса классов - Увеличение выборки: ', DecisionTree_roc_auc_with_upsampling)\n",
    "print('С учётом дисбаланса классов - Уменьшение выборки: ', DecisionTree_roc_auc_with_downsampling)"
   ]
  },
  {
   "cell_type": "markdown",
   "metadata": {},
   "source": [
    "Как менялась метрика AUC-ROC Случайного леса:"
   ]
  },
  {
   "cell_type": "code",
   "execution_count": 47,
   "metadata": {},
   "outputs": [
    {
     "name": "stdout",
     "output_type": "stream",
     "text": [
      "Без учёта дисбаланса классов:  0.8210607537361925\n",
      "С учётом дисбаланса классов - Взвешивание классов:  0.8392958089668616\n",
      "С учётом дисбаланса классов - Увеличение выборки:  0.8273822287199479\n",
      "С учётом дисбаланса классов - Уменьшение выборки:  0.838388564002599\n"
     ]
    }
   ],
   "source": [
    "print('Без учёта дисбаланса классов: ', RandomForestClassifier_roc_auc)\n",
    "print('С учётом дисбаланса классов - Взвешивание классов: ', RandomForestClassifier_roc_auc_with_class_weight_balanced)\n",
    "print('С учётом дисбаланса классов - Увеличение выборки: ', RandomForestClassifier_roc_auc_with_upsampling)\n",
    "print('С учётом дисбаланса классов - Уменьшение выборки: ', RandomForestClassifier_roc_auc_with_downsampling)"
   ]
  },
  {
   "cell_type": "markdown",
   "metadata": {},
   "source": [
    "По аналогии с F1-мерой наивысший результат по метрике AUC-ROC показала модель Случайного леса с учётом дисбаланса классов, когда использовалось взвешивание классов."
   ]
  },
  {
   "cell_type": "markdown",
   "metadata": {},
   "source": [
    "## Тестирование модели"
   ]
  },
  {
   "cell_type": "markdown",
   "metadata": {},
   "source": [
    "Тестировать будем лучшую модель, которая получилась после обработки дисбаланса классов. "
   ]
  },
  {
   "cell_type": "code",
   "execution_count": 48,
   "metadata": {},
   "outputs": [
    {
     "name": "stdout",
     "output_type": "stream",
     "text": [
      "F1-мера модели на тестовой выборке: 0.6332574031890661\n",
      "AUC-ROC модели на тестовой выборке: 0.848250629536365\n"
     ]
    }
   ],
   "source": [
    "predictions = best_model_RandomForestClassifier_with_class_weight_balanced.predict(new_test)\n",
    "\n",
    "probabilities_valid = model.predict_proba(new_test)\n",
    "probabilities_one_valid = probabilities_valid[:, 1]\n",
    "\n",
    "roc_auc = roc_auc_score(target_test, probabilities_one_valid)\n",
    "\n",
    "f1 = f1_score(target_test, predictions)\n",
    "\n",
    "print(\"F1-мера модели на тестовой выборке:\", f1)\n",
    "print(\"AUC-ROC модели на тестовой выборке:\", roc_auc)"
   ]
  },
  {
   "cell_type": "markdown",
   "metadata": {},
   "source": [
    "###  Вывод\n",
    "\n",
    "На тестовой выборке результат оказался ещё выше целевого. "
   ]
  },
  {
   "cell_type": "markdown",
   "metadata": {},
   "source": [
    "## Общий вывод\n",
    "\n",
    "В ходе проекта были изучены данные, обработаны пропуски (использовался IterativeImputer). Далее данные были разбиты на выборки - обучающую, валидационную и тестовую. Категориальные признаки – закодированы (использлвался OneHotEncoder). Числовые – промасштабируемы с учетом выбросов (использовался RobustScaler). Чтобы избежать утечки данных, кодирочщики обучались только на обучающей выборке. \n",
    "\n",
    "Следующим шагом был обнаружен и проанализирован дисбаланс классов. Решая задачу классификации были обучены три модели – Логистическая регрессия, Дерево решений, Случайный лес. Сначала были получены результаты без учета дисбаланса классов. Результаты были неудовлетворительны. Ни одна модель не достигла нужного значения F1-меры. \n",
    "\n",
    "Далее были рассмотрены три варианта борьбы с дисбалансом классов – Взвешивание классов, Увеличение выборки, Уменьшение выборки. Получилось добиться желаемого результата на валидационной выборке после обучения модели Случайного леса, когда использовалось взвешивание классов. Метрика AUC-ROC также оказалась наивысшей в этом случае среди всех рассмотренных. \n",
    "\n",
    "Модель была проверена на тестовой выборке и подтвердила своё качество. Метрики оказались ещё выше, чем на валидационной выборке. "
   ]
  },
  {
   "cell_type": "code",
   "execution_count": 49,
   "metadata": {
    "scrolled": true
   },
   "outputs": [
    {
     "name": "stdout",
     "output_type": "stream",
     "text": [
      "F1-мера модели на тестовой выборке: 0.6332574031890661\n",
      "AUC-ROC модели на тестовой выборке: 0.848250629536365\n"
     ]
    }
   ],
   "source": [
    "print(\"F1-мера модели на тестовой выборке:\", f1)\n",
    "print(\"AUC-ROC модели на тестовой выборке:\", roc_auc)"
   ]
  },
  {
   "cell_type": "markdown",
   "metadata": {},
   "source": [
    "https://github.com/ksvolik/Supervised_learning"
   ]
  }
 ],
 "metadata": {
  "ExecuteTimeLog": [
   {
    "duration": 2597,
    "start_time": "2023-09-18T20:21:10.648Z"
   },
   {
    "duration": 416,
    "start_time": "2023-09-18T20:26:22.099Z"
   },
   {
    "duration": 14,
    "start_time": "2023-09-18T20:29:16.636Z"
   },
   {
    "duration": 13,
    "start_time": "2023-09-18T20:45:05.878Z"
   },
   {
    "duration": 1719,
    "start_time": "2023-09-19T03:56:08.451Z"
   },
   {
    "duration": 84,
    "start_time": "2023-09-19T03:56:12.788Z"
   },
   {
    "duration": 19,
    "start_time": "2023-09-19T03:56:14.264Z"
   },
   {
    "duration": 15,
    "start_time": "2023-09-19T03:56:15.843Z"
   },
   {
    "duration": 41,
    "start_time": "2023-09-19T03:56:17.299Z"
   },
   {
    "duration": 43,
    "start_time": "2023-09-19T04:07:50.356Z"
   },
   {
    "duration": 13,
    "start_time": "2023-09-19T04:08:54.017Z"
   },
   {
    "duration": 1744,
    "start_time": "2023-09-20T04:08:48.527Z"
   },
   {
    "duration": 83,
    "start_time": "2023-09-20T04:08:50.273Z"
   },
   {
    "duration": 20,
    "start_time": "2023-09-20T04:08:50.358Z"
   },
   {
    "duration": 41,
    "start_time": "2023-09-20T04:08:50.380Z"
   },
   {
    "duration": 54,
    "start_time": "2023-09-20T04:08:50.423Z"
   },
   {
    "duration": 13,
    "start_time": "2023-09-20T04:08:50.479Z"
   },
   {
    "duration": 1795,
    "start_time": "2023-10-04T12:18:20.221Z"
   },
   {
    "duration": 94,
    "start_time": "2023-10-04T12:18:22.020Z"
   },
   {
    "duration": 17,
    "start_time": "2023-10-04T12:18:22.116Z"
   },
   {
    "duration": 33,
    "start_time": "2023-10-04T12:18:22.135Z"
   },
   {
    "duration": 44,
    "start_time": "2023-10-04T12:18:22.171Z"
   },
   {
    "duration": 12,
    "start_time": "2023-10-04T12:18:22.217Z"
   },
   {
    "duration": 14,
    "start_time": "2023-10-04T12:26:21.719Z"
   },
   {
    "duration": 18,
    "start_time": "2023-10-04T12:30:47.000Z"
   },
   {
    "duration": 157,
    "start_time": "2023-10-04T12:31:01.159Z"
   },
   {
    "duration": 6,
    "start_time": "2023-10-04T12:38:43.900Z"
   },
   {
    "duration": 11,
    "start_time": "2023-10-04T12:38:59.740Z"
   },
   {
    "duration": 6,
    "start_time": "2023-10-04T12:39:04.300Z"
   },
   {
    "duration": 5,
    "start_time": "2023-10-04T12:39:28.544Z"
   },
   {
    "duration": 6,
    "start_time": "2023-10-04T12:39:38.537Z"
   },
   {
    "duration": 20,
    "start_time": "2023-10-04T12:47:03.073Z"
   },
   {
    "duration": 1801,
    "start_time": "2023-10-04T12:49:03.788Z"
   },
   {
    "duration": 2321,
    "start_time": "2023-10-04T12:49:21.961Z"
   },
   {
    "duration": 12,
    "start_time": "2023-10-04T12:49:54.841Z"
   },
   {
    "duration": 2143,
    "start_time": "2023-10-04T12:51:07.830Z"
   },
   {
    "duration": 2297,
    "start_time": "2023-10-04T12:52:55.051Z"
   },
   {
    "duration": 1886,
    "start_time": "2023-10-04T12:54:25.825Z"
   },
   {
    "duration": 1598,
    "start_time": "2023-10-04T12:59:56.350Z"
   },
   {
    "duration": 43,
    "start_time": "2023-10-04T12:59:57.950Z"
   },
   {
    "duration": 17,
    "start_time": "2023-10-04T12:59:57.995Z"
   },
   {
    "duration": 15,
    "start_time": "2023-10-04T12:59:58.014Z"
   },
   {
    "duration": 60,
    "start_time": "2023-10-04T12:59:58.030Z"
   },
   {
    "duration": 12,
    "start_time": "2023-10-04T12:59:58.091Z"
   },
   {
    "duration": 1808,
    "start_time": "2023-10-04T12:59:58.104Z"
   },
   {
    "duration": 6,
    "start_time": "2023-10-04T12:59:59.914Z"
   },
   {
    "duration": 10,
    "start_time": "2023-10-04T12:59:59.922Z"
   },
   {
    "duration": 42,
    "start_time": "2023-10-04T12:59:59.934Z"
   },
   {
    "duration": 2703,
    "start_time": "2023-10-04T12:59:59.978Z"
   },
   {
    "duration": 120,
    "start_time": "2023-10-04T13:00:02.684Z"
   },
   {
    "duration": 2283,
    "start_time": "2023-10-04T13:00:02.806Z"
   },
   {
    "duration": 1443,
    "start_time": "2023-10-04T13:13:18.034Z"
   },
   {
    "duration": 44,
    "start_time": "2023-10-04T13:13:19.478Z"
   },
   {
    "duration": 18,
    "start_time": "2023-10-04T13:13:19.524Z"
   },
   {
    "duration": 15,
    "start_time": "2023-10-04T13:13:19.544Z"
   },
   {
    "duration": 42,
    "start_time": "2023-10-04T13:13:19.560Z"
   },
   {
    "duration": 10,
    "start_time": "2023-10-04T13:13:19.604Z"
   },
   {
    "duration": 1739,
    "start_time": "2023-10-04T13:13:19.616Z"
   },
   {
    "duration": 5,
    "start_time": "2023-10-04T13:13:21.357Z"
   },
   {
    "duration": 18,
    "start_time": "2023-10-04T13:13:21.364Z"
   },
   {
    "duration": 21,
    "start_time": "2023-10-04T13:13:21.384Z"
   },
   {
    "duration": 32,
    "start_time": "2023-10-04T13:13:21.407Z"
   },
   {
    "duration": 2241,
    "start_time": "2023-10-04T13:13:21.441Z"
   },
   {
    "duration": 116,
    "start_time": "2023-10-04T13:13:23.684Z"
   },
   {
    "duration": 2243,
    "start_time": "2023-10-04T13:13:23.802Z"
   },
   {
    "duration": 8,
    "start_time": "2023-10-04T13:13:26.047Z"
   },
   {
    "duration": 1617,
    "start_time": "2023-10-05T20:07:30.029Z"
   },
   {
    "duration": 80,
    "start_time": "2023-10-05T20:07:31.648Z"
   },
   {
    "duration": 20,
    "start_time": "2023-10-05T20:07:31.730Z"
   },
   {
    "duration": 599,
    "start_time": "2023-10-05T20:07:31.751Z"
   },
   {
    "duration": 748,
    "start_time": "2023-10-05T20:07:32.353Z"
   },
   {
    "duration": 171,
    "start_time": "2023-10-05T20:07:33.103Z"
   },
   {
    "duration": 1801,
    "start_time": "2023-10-05T20:07:33.276Z"
   },
   {
    "duration": 22,
    "start_time": "2023-10-05T20:07:35.079Z"
   },
   {
    "duration": 29,
    "start_time": "2023-10-05T20:07:35.103Z"
   },
   {
    "duration": 39,
    "start_time": "2023-10-05T20:07:35.134Z"
   },
   {
    "duration": 2830,
    "start_time": "2023-10-05T20:07:35.175Z"
   },
   {
    "duration": 5,
    "start_time": "2023-10-05T20:15:14.392Z"
   },
   {
    "duration": 6,
    "start_time": "2023-10-05T20:15:24.287Z"
   },
   {
    "duration": 5,
    "start_time": "2023-10-05T20:15:32.634Z"
   },
   {
    "duration": 8,
    "start_time": "2023-10-05T20:17:16.632Z"
   },
   {
    "duration": 6,
    "start_time": "2023-10-05T20:17:31.673Z"
   },
   {
    "duration": 1507,
    "start_time": "2023-10-05T20:17:55.073Z"
   },
   {
    "duration": 7,
    "start_time": "2023-10-05T20:18:25.227Z"
   },
   {
    "duration": 13,
    "start_time": "2023-10-05T20:18:44.690Z"
   },
   {
    "duration": 6,
    "start_time": "2023-10-05T20:19:15.870Z"
   },
   {
    "duration": 8,
    "start_time": "2023-10-05T20:19:27.665Z"
   },
   {
    "duration": 10,
    "start_time": "2023-10-05T20:19:38.825Z"
   },
   {
    "duration": 5,
    "start_time": "2023-10-05T20:22:20.586Z"
   },
   {
    "duration": 1507,
    "start_time": "2023-10-05T21:02:05.839Z"
   },
   {
    "duration": 40,
    "start_time": "2023-10-05T21:02:07.348Z"
   },
   {
    "duration": 18,
    "start_time": "2023-10-05T21:02:07.390Z"
   },
   {
    "duration": 15,
    "start_time": "2023-10-05T21:02:07.409Z"
   },
   {
    "duration": 4,
    "start_time": "2023-10-05T21:02:07.426Z"
   },
   {
    "duration": 56,
    "start_time": "2023-10-05T21:02:07.432Z"
   },
   {
    "duration": 1815,
    "start_time": "2023-10-05T21:02:07.500Z"
   },
   {
    "duration": 6,
    "start_time": "2023-10-05T21:02:09.316Z"
   },
   {
    "duration": 29,
    "start_time": "2023-10-05T21:02:09.323Z"
   },
   {
    "duration": 16,
    "start_time": "2023-10-05T21:02:09.354Z"
   },
   {
    "duration": 7,
    "start_time": "2023-10-05T21:02:09.371Z"
   },
   {
    "duration": 276,
    "start_time": "2023-10-05T21:02:09.380Z"
   },
   {
    "duration": 0,
    "start_time": "2023-10-05T21:02:09.658Z"
   },
   {
    "duration": 0,
    "start_time": "2023-10-05T21:02:09.659Z"
   },
   {
    "duration": 13,
    "start_time": "2023-10-05T21:02:52.152Z"
   },
   {
    "duration": 12,
    "start_time": "2023-10-05T21:03:11.111Z"
   },
   {
    "duration": 41,
    "start_time": "2023-10-05T21:33:10.471Z"
   },
   {
    "duration": 1531,
    "start_time": "2023-10-05T21:33:45.771Z"
   },
   {
    "duration": 41,
    "start_time": "2023-10-05T21:33:47.304Z"
   },
   {
    "duration": 17,
    "start_time": "2023-10-05T21:33:47.346Z"
   },
   {
    "duration": 30,
    "start_time": "2023-10-05T21:33:47.365Z"
   },
   {
    "duration": 40,
    "start_time": "2023-10-05T21:33:47.397Z"
   },
   {
    "duration": 62,
    "start_time": "2023-10-05T21:33:47.439Z"
   },
   {
    "duration": 1805,
    "start_time": "2023-10-05T21:33:47.502Z"
   },
   {
    "duration": 6,
    "start_time": "2023-10-05T21:33:49.309Z"
   },
   {
    "duration": 28,
    "start_time": "2023-10-05T21:33:49.317Z"
   },
   {
    "duration": 24,
    "start_time": "2023-10-05T21:33:49.348Z"
   },
   {
    "duration": 9,
    "start_time": "2023-10-05T21:33:49.374Z"
   },
   {
    "duration": 31,
    "start_time": "2023-10-05T21:33:49.385Z"
   },
   {
    "duration": 71,
    "start_time": "2023-10-05T21:33:49.418Z"
   },
   {
    "duration": 112,
    "start_time": "2023-10-05T21:33:49.491Z"
   },
   {
    "duration": 0,
    "start_time": "2023-10-05T21:33:49.605Z"
   },
   {
    "duration": 234,
    "start_time": "2023-10-05T21:35:02.890Z"
   },
   {
    "duration": 1420,
    "start_time": "2023-10-05T21:35:20.134Z"
   },
   {
    "duration": 40,
    "start_time": "2023-10-05T21:35:21.556Z"
   },
   {
    "duration": 27,
    "start_time": "2023-10-05T21:35:21.598Z"
   },
   {
    "duration": 27,
    "start_time": "2023-10-05T21:35:21.627Z"
   },
   {
    "duration": 27,
    "start_time": "2023-10-05T21:35:21.656Z"
   },
   {
    "duration": 82,
    "start_time": "2023-10-05T21:35:21.685Z"
   },
   {
    "duration": 1734,
    "start_time": "2023-10-05T21:35:21.769Z"
   },
   {
    "duration": 5,
    "start_time": "2023-10-05T21:35:23.505Z"
   },
   {
    "duration": 23,
    "start_time": "2023-10-05T21:35:23.512Z"
   },
   {
    "duration": 19,
    "start_time": "2023-10-05T21:35:23.537Z"
   },
   {
    "duration": 30,
    "start_time": "2023-10-05T21:35:23.558Z"
   },
   {
    "duration": 6,
    "start_time": "2023-10-05T21:35:23.590Z"
   },
   {
    "duration": 339,
    "start_time": "2023-10-05T21:35:23.598Z"
   },
   {
    "duration": 0,
    "start_time": "2023-10-05T21:35:23.939Z"
   },
   {
    "duration": 40,
    "start_time": "2023-10-05T21:35:52.909Z"
   },
   {
    "duration": 12,
    "start_time": "2023-10-05T21:38:37.075Z"
   },
   {
    "duration": 12,
    "start_time": "2023-10-05T21:38:54.466Z"
   },
   {
    "duration": 1555,
    "start_time": "2023-10-05T21:42:21.974Z"
   },
   {
    "duration": 43,
    "start_time": "2023-10-05T21:42:23.531Z"
   },
   {
    "duration": 18,
    "start_time": "2023-10-05T21:42:23.576Z"
   },
   {
    "duration": 17,
    "start_time": "2023-10-05T21:42:23.596Z"
   },
   {
    "duration": 4,
    "start_time": "2023-10-05T21:42:23.616Z"
   },
   {
    "duration": 54,
    "start_time": "2023-10-05T21:42:23.622Z"
   },
   {
    "duration": 1871,
    "start_time": "2023-10-05T21:42:23.677Z"
   },
   {
    "duration": 5,
    "start_time": "2023-10-05T21:42:25.550Z"
   },
   {
    "duration": 43,
    "start_time": "2023-10-05T21:42:25.557Z"
   },
   {
    "duration": 30,
    "start_time": "2023-10-05T21:42:25.601Z"
   },
   {
    "duration": 116,
    "start_time": "2023-10-05T21:42:25.632Z"
   },
   {
    "duration": 55,
    "start_time": "2023-10-05T21:42:25.750Z"
   },
   {
    "duration": 51,
    "start_time": "2023-10-05T21:42:25.807Z"
   },
   {
    "duration": 110,
    "start_time": "2023-10-05T21:42:25.860Z"
   },
   {
    "duration": 18,
    "start_time": "2023-10-05T21:46:22.886Z"
   },
   {
    "duration": 15,
    "start_time": "2023-10-05T21:46:57.550Z"
   },
   {
    "duration": 493,
    "start_time": "2023-10-05T21:49:25.717Z"
   },
   {
    "duration": 1063,
    "start_time": "2023-10-05T21:49:42.539Z"
   },
   {
    "duration": 2190,
    "start_time": "2023-10-05T21:50:12.178Z"
   },
   {
    "duration": 11,
    "start_time": "2023-10-05T21:57:00.971Z"
   },
   {
    "duration": 1490,
    "start_time": "2023-10-05T22:04:05.040Z"
   },
   {
    "duration": 51,
    "start_time": "2023-10-05T22:04:06.532Z"
   },
   {
    "duration": 18,
    "start_time": "2023-10-05T22:04:06.584Z"
   },
   {
    "duration": 42,
    "start_time": "2023-10-05T22:04:06.604Z"
   },
   {
    "duration": 42,
    "start_time": "2023-10-05T22:04:06.649Z"
   },
   {
    "duration": 66,
    "start_time": "2023-10-05T22:04:06.694Z"
   },
   {
    "duration": 1745,
    "start_time": "2023-10-05T22:04:06.763Z"
   },
   {
    "duration": 6,
    "start_time": "2023-10-05T22:04:08.509Z"
   },
   {
    "duration": 84,
    "start_time": "2023-10-05T22:04:08.517Z"
   },
   {
    "duration": 18,
    "start_time": "2023-10-05T22:04:08.605Z"
   },
   {
    "duration": 50,
    "start_time": "2023-10-05T22:04:08.624Z"
   },
   {
    "duration": 25,
    "start_time": "2023-10-05T22:04:08.676Z"
   },
   {
    "duration": 66,
    "start_time": "2023-10-05T22:04:08.705Z"
   },
   {
    "duration": 17,
    "start_time": "2023-10-05T22:04:08.773Z"
   },
   {
    "duration": 17,
    "start_time": "2023-10-05T22:04:08.792Z"
   },
   {
    "duration": 1098,
    "start_time": "2023-10-05T22:04:08.811Z"
   },
   {
    "duration": 2079,
    "start_time": "2023-10-05T22:04:09.911Z"
   },
   {
    "duration": 11,
    "start_time": "2023-10-05T22:04:11.992Z"
   },
   {
    "duration": 176,
    "start_time": "2023-10-05T22:04:12.004Z"
   },
   {
    "duration": 1481,
    "start_time": "2023-10-05T22:06:45.504Z"
   },
   {
    "duration": 42,
    "start_time": "2023-10-05T22:06:46.987Z"
   },
   {
    "duration": 18,
    "start_time": "2023-10-05T22:06:47.031Z"
   },
   {
    "duration": 15,
    "start_time": "2023-10-05T22:06:47.050Z"
   },
   {
    "duration": 11,
    "start_time": "2023-10-05T22:06:47.067Z"
   },
   {
    "duration": 57,
    "start_time": "2023-10-05T22:06:47.080Z"
   },
   {
    "duration": 1830,
    "start_time": "2023-10-05T22:06:47.139Z"
   },
   {
    "duration": 7,
    "start_time": "2023-10-05T22:06:48.971Z"
   },
   {
    "duration": 43,
    "start_time": "2023-10-05T22:06:48.979Z"
   },
   {
    "duration": 22,
    "start_time": "2023-10-05T22:06:49.024Z"
   },
   {
    "duration": 23,
    "start_time": "2023-10-05T22:06:49.048Z"
   },
   {
    "duration": 23,
    "start_time": "2023-10-05T22:06:49.073Z"
   },
   {
    "duration": 64,
    "start_time": "2023-10-05T22:06:49.099Z"
   },
   {
    "duration": 17,
    "start_time": "2023-10-05T22:06:49.167Z"
   },
   {
    "duration": 59,
    "start_time": "2023-10-05T22:06:49.186Z"
   },
   {
    "duration": 860,
    "start_time": "2023-10-05T22:06:49.246Z"
   },
   {
    "duration": 2134,
    "start_time": "2023-10-05T22:06:50.108Z"
   },
   {
    "duration": 11,
    "start_time": "2023-10-05T22:06:52.245Z"
   },
   {
    "duration": 2121,
    "start_time": "2023-10-05T22:06:52.258Z"
   },
   {
    "duration": 21,
    "start_time": "2023-10-05T22:06:54.381Z"
   },
   {
    "duration": 2292,
    "start_time": "2023-10-05T22:06:54.404Z"
   },
   {
    "duration": 1564,
    "start_time": "2023-10-05T22:15:12.496Z"
   },
   {
    "duration": 43,
    "start_time": "2023-10-05T22:15:14.062Z"
   },
   {
    "duration": 18,
    "start_time": "2023-10-05T22:15:14.107Z"
   },
   {
    "duration": 16,
    "start_time": "2023-10-05T22:15:14.127Z"
   },
   {
    "duration": 7,
    "start_time": "2023-10-05T22:15:14.145Z"
   },
   {
    "duration": 57,
    "start_time": "2023-10-05T22:15:14.154Z"
   },
   {
    "duration": 1891,
    "start_time": "2023-10-05T22:15:14.212Z"
   },
   {
    "duration": 6,
    "start_time": "2023-10-05T22:15:16.105Z"
   },
   {
    "duration": 225,
    "start_time": "2023-10-05T22:15:16.113Z"
   },
   {
    "duration": 176,
    "start_time": "2023-10-05T22:15:16.342Z"
   },
   {
    "duration": 103,
    "start_time": "2023-10-05T22:15:16.521Z"
   },
   {
    "duration": 115,
    "start_time": "2023-10-05T22:15:16.626Z"
   },
   {
    "duration": 87,
    "start_time": "2023-10-05T22:15:16.743Z"
   },
   {
    "duration": 17,
    "start_time": "2023-10-05T22:15:16.833Z"
   },
   {
    "duration": 38,
    "start_time": "2023-10-05T22:15:16.851Z"
   },
   {
    "duration": 2114,
    "start_time": "2023-10-05T22:15:16.891Z"
   },
   {
    "duration": 2175,
    "start_time": "2023-10-05T22:15:19.007Z"
   },
   {
    "duration": 11,
    "start_time": "2023-10-05T22:15:21.184Z"
   },
   {
    "duration": 2088,
    "start_time": "2023-10-05T22:15:21.197Z"
   },
   {
    "duration": 21,
    "start_time": "2023-10-05T22:15:23.287Z"
   },
   {
    "duration": 2241,
    "start_time": "2023-10-05T22:15:23.310Z"
   },
   {
    "duration": 2091,
    "start_time": "2023-10-05T22:15:25.553Z"
   },
   {
    "duration": 1145,
    "start_time": "2023-10-05T22:18:19.954Z"
   },
   {
    "duration": 1457,
    "start_time": "2023-10-05T22:29:58.855Z"
   },
   {
    "duration": 42,
    "start_time": "2023-10-05T22:30:00.314Z"
   },
   {
    "duration": 412,
    "start_time": "2023-10-05T22:30:00.358Z"
   },
   {
    "duration": 139,
    "start_time": "2023-10-05T22:30:00.772Z"
   },
   {
    "duration": 54,
    "start_time": "2023-10-05T22:30:00.915Z"
   },
   {
    "duration": 105,
    "start_time": "2023-10-05T22:30:00.971Z"
   },
   {
    "duration": 1857,
    "start_time": "2023-10-05T22:30:01.078Z"
   },
   {
    "duration": 5,
    "start_time": "2023-10-05T22:30:02.938Z"
   },
   {
    "duration": 70,
    "start_time": "2023-10-05T22:30:02.945Z"
   },
   {
    "duration": 49,
    "start_time": "2023-10-05T22:30:03.017Z"
   },
   {
    "duration": 990,
    "start_time": "2023-10-05T22:30:03.067Z"
   },
   {
    "duration": 174,
    "start_time": "2023-10-05T22:30:04.059Z"
   },
   {
    "duration": 128,
    "start_time": "2023-10-05T22:30:04.236Z"
   },
   {
    "duration": 17,
    "start_time": "2023-10-05T22:30:04.368Z"
   },
   {
    "duration": 33,
    "start_time": "2023-10-05T22:30:04.387Z"
   },
   {
    "duration": 1285,
    "start_time": "2023-10-05T22:30:04.421Z"
   },
   {
    "duration": 2051,
    "start_time": "2023-10-05T22:30:05.707Z"
   },
   {
    "duration": 10,
    "start_time": "2023-10-05T22:30:07.760Z"
   },
   {
    "duration": 2231,
    "start_time": "2023-10-05T22:30:07.772Z"
   },
   {
    "duration": 12,
    "start_time": "2023-10-05T22:30:10.005Z"
   },
   {
    "duration": 2161,
    "start_time": "2023-10-05T22:30:10.018Z"
   },
   {
    "duration": 2130,
    "start_time": "2023-10-05T22:30:12.181Z"
   },
   {
    "duration": 1191,
    "start_time": "2023-10-05T22:30:14.313Z"
   },
   {
    "duration": 1690,
    "start_time": "2023-10-07T11:27:15.626Z"
   },
   {
    "duration": 153,
    "start_time": "2023-10-07T11:27:17.318Z"
   },
   {
    "duration": 19,
    "start_time": "2023-10-07T11:27:17.473Z"
   },
   {
    "duration": 27,
    "start_time": "2023-10-07T11:27:17.494Z"
   },
   {
    "duration": 21,
    "start_time": "2023-10-07T11:27:17.523Z"
   },
   {
    "duration": 64,
    "start_time": "2023-10-07T11:27:17.546Z"
   },
   {
    "duration": 1676,
    "start_time": "2023-10-07T11:27:17.612Z"
   },
   {
    "duration": 6,
    "start_time": "2023-10-07T11:27:19.289Z"
   },
   {
    "duration": 38,
    "start_time": "2023-10-07T11:27:19.296Z"
   },
   {
    "duration": 32,
    "start_time": "2023-10-07T11:27:19.336Z"
   },
   {
    "duration": 10,
    "start_time": "2023-10-07T11:27:19.371Z"
   },
   {
    "duration": 31,
    "start_time": "2023-10-07T11:27:19.383Z"
   },
   {
    "duration": 63,
    "start_time": "2023-10-07T11:27:19.416Z"
   },
   {
    "duration": 18,
    "start_time": "2023-10-07T11:27:19.481Z"
   },
   {
    "duration": 23,
    "start_time": "2023-10-07T11:27:19.502Z"
   },
   {
    "duration": 721,
    "start_time": "2023-10-07T11:27:19.527Z"
   },
   {
    "duration": 2012,
    "start_time": "2023-10-07T11:27:20.250Z"
   },
   {
    "duration": 10,
    "start_time": "2023-10-07T11:27:22.264Z"
   },
   {
    "duration": 2108,
    "start_time": "2023-10-07T11:27:22.275Z"
   },
   {
    "duration": 14,
    "start_time": "2023-10-07T11:27:24.385Z"
   },
   {
    "duration": 2002,
    "start_time": "2023-10-07T11:27:24.401Z"
   },
   {
    "duration": 1945,
    "start_time": "2023-10-07T11:27:26.405Z"
   },
   {
    "duration": 1102,
    "start_time": "2023-10-07T11:27:28.352Z"
   },
   {
    "duration": 1558,
    "start_time": "2023-10-07T12:43:49.219Z"
   },
   {
    "duration": 42,
    "start_time": "2023-10-07T12:43:50.780Z"
   },
   {
    "duration": 81,
    "start_time": "2023-10-07T12:43:50.824Z"
   },
   {
    "duration": 178,
    "start_time": "2023-10-07T12:43:50.907Z"
   },
   {
    "duration": 143,
    "start_time": "2023-10-07T12:43:51.086Z"
   },
   {
    "duration": 63,
    "start_time": "2023-10-07T12:43:51.231Z"
   },
   {
    "duration": 1833,
    "start_time": "2023-10-07T12:43:51.296Z"
   },
   {
    "duration": 18,
    "start_time": "2023-10-07T12:43:53.131Z"
   },
   {
    "duration": 14,
    "start_time": "2023-10-07T12:43:53.156Z"
   },
   {
    "duration": 19,
    "start_time": "2023-10-07T12:43:53.174Z"
   },
   {
    "duration": 7,
    "start_time": "2023-10-07T12:43:53.195Z"
   },
   {
    "duration": 7,
    "start_time": "2023-10-07T12:43:53.203Z"
   },
   {
    "duration": 70,
    "start_time": "2023-10-07T12:43:53.211Z"
   },
   {
    "duration": 30,
    "start_time": "2023-10-07T12:43:53.283Z"
   },
   {
    "duration": 23,
    "start_time": "2023-10-07T12:43:53.315Z"
   },
   {
    "duration": 1620,
    "start_time": "2023-10-07T12:43:53.340Z"
   },
   {
    "duration": 2364,
    "start_time": "2023-10-07T12:43:54.962Z"
   },
   {
    "duration": 11,
    "start_time": "2023-10-07T12:43:57.328Z"
   },
   {
    "duration": 2311,
    "start_time": "2023-10-07T12:43:57.341Z"
   },
   {
    "duration": 13,
    "start_time": "2023-10-07T12:43:59.654Z"
   },
   {
    "duration": 2355,
    "start_time": "2023-10-07T12:43:59.669Z"
   },
   {
    "duration": 2415,
    "start_time": "2023-10-07T12:44:02.026Z"
   },
   {
    "duration": 1195,
    "start_time": "2023-10-07T12:44:04.451Z"
   },
   {
    "duration": 1544,
    "start_time": "2023-10-08T10:47:37.492Z"
   },
   {
    "duration": 172,
    "start_time": "2023-10-08T10:47:39.039Z"
   },
   {
    "duration": 17,
    "start_time": "2023-10-08T10:47:39.213Z"
   },
   {
    "duration": 14,
    "start_time": "2023-10-08T10:47:39.232Z"
   },
   {
    "duration": 4,
    "start_time": "2023-10-08T10:47:39.248Z"
   },
   {
    "duration": 42,
    "start_time": "2023-10-08T10:47:39.254Z"
   },
   {
    "duration": 1690,
    "start_time": "2023-10-08T10:47:39.298Z"
   },
   {
    "duration": 6,
    "start_time": "2023-10-08T10:47:40.990Z"
   },
   {
    "duration": 11,
    "start_time": "2023-10-08T10:47:40.997Z"
   },
   {
    "duration": 40,
    "start_time": "2023-10-08T10:47:41.010Z"
   },
   {
    "duration": 8,
    "start_time": "2023-10-08T10:47:41.052Z"
   },
   {
    "duration": 16,
    "start_time": "2023-10-08T10:47:41.062Z"
   },
   {
    "duration": 53,
    "start_time": "2023-10-08T10:47:41.079Z"
   },
   {
    "duration": 15,
    "start_time": "2023-10-08T10:47:41.135Z"
   },
   {
    "duration": 30,
    "start_time": "2023-10-08T10:47:41.152Z"
   },
   {
    "duration": 764,
    "start_time": "2023-10-08T10:47:41.184Z"
   },
   {
    "duration": 1948,
    "start_time": "2023-10-08T10:47:41.950Z"
   },
   {
    "duration": 9,
    "start_time": "2023-10-08T10:47:43.900Z"
   },
   {
    "duration": 1951,
    "start_time": "2023-10-08T10:47:43.911Z"
   },
   {
    "duration": 10,
    "start_time": "2023-10-08T10:47:45.863Z"
   },
   {
    "duration": 1919,
    "start_time": "2023-10-08T10:47:45.875Z"
   },
   {
    "duration": 1864,
    "start_time": "2023-10-08T10:47:47.796Z"
   },
   {
    "duration": 983,
    "start_time": "2023-10-08T10:47:49.661Z"
   },
   {
    "duration": 6,
    "start_time": "2023-10-08T10:57:12.327Z"
   },
   {
    "duration": 4,
    "start_time": "2023-10-08T10:57:19.690Z"
   },
   {
    "duration": 5,
    "start_time": "2023-10-08T10:57:22.776Z"
   },
   {
    "duration": 8,
    "start_time": "2023-10-08T10:59:02.313Z"
   },
   {
    "duration": 113,
    "start_time": "2023-10-08T10:59:28.940Z"
   },
   {
    "duration": 114,
    "start_time": "2023-10-08T10:59:34.312Z"
   },
   {
    "duration": 109,
    "start_time": "2023-10-08T11:08:16.252Z"
   },
   {
    "duration": 244,
    "start_time": "2023-10-08T11:08:31.027Z"
   },
   {
    "duration": 457,
    "start_time": "2023-10-08T11:52:01.889Z"
   },
   {
    "duration": 1457,
    "start_time": "2023-10-08T11:52:14.502Z"
   },
   {
    "duration": 42,
    "start_time": "2023-10-08T11:52:15.960Z"
   },
   {
    "duration": 17,
    "start_time": "2023-10-08T11:52:16.003Z"
   },
   {
    "duration": 14,
    "start_time": "2023-10-08T11:52:16.022Z"
   },
   {
    "duration": 4,
    "start_time": "2023-10-08T11:52:16.037Z"
   },
   {
    "duration": 40,
    "start_time": "2023-10-08T11:52:16.044Z"
   },
   {
    "duration": 1691,
    "start_time": "2023-10-08T11:52:16.086Z"
   },
   {
    "duration": 6,
    "start_time": "2023-10-08T11:52:17.778Z"
   },
   {
    "duration": 26,
    "start_time": "2023-10-08T11:52:17.785Z"
   },
   {
    "duration": 14,
    "start_time": "2023-10-08T11:52:17.814Z"
   },
   {
    "duration": 18,
    "start_time": "2023-10-08T11:52:17.829Z"
   },
   {
    "duration": 8,
    "start_time": "2023-10-08T11:52:17.848Z"
   },
   {
    "duration": 37,
    "start_time": "2023-10-08T11:52:17.857Z"
   },
   {
    "duration": 16,
    "start_time": "2023-10-08T11:52:17.895Z"
   },
   {
    "duration": 11,
    "start_time": "2023-10-08T11:52:17.913Z"
   },
   {
    "duration": 1410,
    "start_time": "2023-10-08T11:52:17.945Z"
   },
   {
    "duration": 1989,
    "start_time": "2023-10-08T11:52:19.357Z"
   },
   {
    "duration": 10,
    "start_time": "2023-10-08T11:52:21.348Z"
   },
   {
    "duration": 1977,
    "start_time": "2023-10-08T11:52:21.360Z"
   },
   {
    "duration": 14,
    "start_time": "2023-10-08T11:52:23.339Z"
   },
   {
    "duration": 2096,
    "start_time": "2023-10-08T11:52:23.355Z"
   },
   {
    "duration": 1945,
    "start_time": "2023-10-08T11:52:25.453Z"
   },
   {
    "duration": 1075,
    "start_time": "2023-10-08T11:52:27.400Z"
   },
   {
    "duration": 110,
    "start_time": "2023-10-08T11:52:28.477Z"
   },
   {
    "duration": 108,
    "start_time": "2023-10-08T11:52:28.588Z"
   },
   {
    "duration": 102,
    "start_time": "2023-10-08T11:52:28.698Z"
   },
   {
    "duration": 243,
    "start_time": "2023-10-08T11:52:28.802Z"
   },
   {
    "duration": 1382,
    "start_time": "2023-10-08T11:57:44.340Z"
   },
   {
    "duration": 42,
    "start_time": "2023-10-08T11:57:45.725Z"
   },
   {
    "duration": 18,
    "start_time": "2023-10-08T11:57:45.769Z"
   },
   {
    "duration": 32,
    "start_time": "2023-10-08T11:57:45.789Z"
   },
   {
    "duration": 20,
    "start_time": "2023-10-08T11:57:45.824Z"
   },
   {
    "duration": 52,
    "start_time": "2023-10-08T11:57:45.846Z"
   },
   {
    "duration": 1677,
    "start_time": "2023-10-08T11:57:45.900Z"
   },
   {
    "duration": 4,
    "start_time": "2023-10-08T11:57:47.580Z"
   },
   {
    "duration": 55,
    "start_time": "2023-10-08T11:57:47.586Z"
   },
   {
    "duration": 30,
    "start_time": "2023-10-08T11:57:47.643Z"
   },
   {
    "duration": 75,
    "start_time": "2023-10-08T11:57:47.674Z"
   },
   {
    "duration": 76,
    "start_time": "2023-10-08T11:57:47.750Z"
   },
   {
    "duration": 46,
    "start_time": "2023-10-08T11:57:47.827Z"
   },
   {
    "duration": 30,
    "start_time": "2023-10-08T11:57:47.876Z"
   },
   {
    "duration": 22,
    "start_time": "2023-10-08T11:57:47.908Z"
   },
   {
    "duration": 713,
    "start_time": "2023-10-08T11:57:47.932Z"
   },
   {
    "duration": 1939,
    "start_time": "2023-10-08T11:57:48.647Z"
   },
   {
    "duration": 9,
    "start_time": "2023-10-08T11:57:50.588Z"
   },
   {
    "duration": 1941,
    "start_time": "2023-10-08T11:57:50.599Z"
   },
   {
    "duration": 11,
    "start_time": "2023-10-08T11:57:52.543Z"
   },
   {
    "duration": 2036,
    "start_time": "2023-10-08T11:57:52.555Z"
   },
   {
    "duration": 1925,
    "start_time": "2023-10-08T11:57:54.592Z"
   },
   {
    "duration": 1034,
    "start_time": "2023-10-08T11:57:56.519Z"
   },
   {
    "duration": 133,
    "start_time": "2023-10-08T11:57:57.555Z"
   },
   {
    "duration": 107,
    "start_time": "2023-10-08T11:57:57.690Z"
   },
   {
    "duration": 101,
    "start_time": "2023-10-08T11:57:57.799Z"
   },
   {
    "duration": 253,
    "start_time": "2023-10-08T11:57:57.902Z"
   },
   {
    "duration": 1418,
    "start_time": "2023-10-08T11:58:54.793Z"
   },
   {
    "duration": 41,
    "start_time": "2023-10-08T11:58:56.212Z"
   },
   {
    "duration": 19,
    "start_time": "2023-10-08T11:58:56.255Z"
   },
   {
    "duration": 16,
    "start_time": "2023-10-08T11:58:56.277Z"
   },
   {
    "duration": 27,
    "start_time": "2023-10-08T11:58:56.295Z"
   },
   {
    "duration": 67,
    "start_time": "2023-10-08T11:58:56.323Z"
   },
   {
    "duration": 1604,
    "start_time": "2023-10-08T11:58:56.392Z"
   },
   {
    "duration": 6,
    "start_time": "2023-10-08T11:58:57.998Z"
   },
   {
    "duration": 15,
    "start_time": "2023-10-08T11:58:58.006Z"
   },
   {
    "duration": 36,
    "start_time": "2023-10-08T11:58:58.026Z"
   },
   {
    "duration": 7,
    "start_time": "2023-10-08T11:58:58.064Z"
   },
   {
    "duration": 11,
    "start_time": "2023-10-08T11:58:58.072Z"
   },
   {
    "duration": 30,
    "start_time": "2023-10-08T11:58:58.084Z"
   },
   {
    "duration": 42,
    "start_time": "2023-10-08T11:58:58.116Z"
   },
   {
    "duration": 18,
    "start_time": "2023-10-08T11:58:58.159Z"
   },
   {
    "duration": 867,
    "start_time": "2023-10-08T11:58:58.178Z"
   },
   {
    "duration": 1951,
    "start_time": "2023-10-08T11:58:59.047Z"
   },
   {
    "duration": 11,
    "start_time": "2023-10-08T11:59:01.000Z"
   },
   {
    "duration": 2134,
    "start_time": "2023-10-08T11:59:01.013Z"
   },
   {
    "duration": 11,
    "start_time": "2023-10-08T11:59:03.149Z"
   },
   {
    "duration": 2205,
    "start_time": "2023-10-08T11:59:03.161Z"
   },
   {
    "duration": 1995,
    "start_time": "2023-10-08T11:59:05.368Z"
   },
   {
    "duration": 1041,
    "start_time": "2023-10-08T11:59:07.365Z"
   },
   {
    "duration": 111,
    "start_time": "2023-10-08T11:59:08.408Z"
   },
   {
    "duration": 106,
    "start_time": "2023-10-08T11:59:08.521Z"
   },
   {
    "duration": 123,
    "start_time": "2023-10-08T11:59:08.629Z"
   },
   {
    "duration": 295,
    "start_time": "2023-10-08T11:59:08.754Z"
   },
   {
    "duration": 6,
    "start_time": "2023-10-08T12:09:04.409Z"
   },
   {
    "duration": 84,
    "start_time": "2023-10-08T12:34:25.062Z"
   },
   {
    "duration": 65,
    "start_time": "2023-10-08T12:34:58.958Z"
   },
   {
    "duration": 72,
    "start_time": "2023-10-08T12:35:16.314Z"
   },
   {
    "duration": 90257,
    "start_time": "2023-10-08T12:43:40.296Z"
   },
   {
    "duration": 100432,
    "start_time": "2023-10-08T12:45:51.176Z"
   },
   {
    "duration": 145,
    "start_time": "2023-10-08T12:51:50.476Z"
   },
   {
    "duration": 164,
    "start_time": "2023-10-08T12:52:18.372Z"
   },
   {
    "duration": 180,
    "start_time": "2023-10-08T12:52:24.216Z"
   },
   {
    "duration": 1506,
    "start_time": "2023-10-08T20:09:09.805Z"
   },
   {
    "duration": 97,
    "start_time": "2023-10-08T20:09:11.313Z"
   },
   {
    "duration": 15,
    "start_time": "2023-10-08T20:09:11.412Z"
   },
   {
    "duration": 13,
    "start_time": "2023-10-08T20:09:11.428Z"
   },
   {
    "duration": 4,
    "start_time": "2023-10-08T20:09:11.443Z"
   },
   {
    "duration": 35,
    "start_time": "2023-10-08T20:09:11.448Z"
   },
   {
    "duration": 1529,
    "start_time": "2023-10-08T20:09:11.484Z"
   },
   {
    "duration": 5,
    "start_time": "2023-10-08T20:09:13.014Z"
   },
   {
    "duration": 109,
    "start_time": "2023-10-08T20:09:13.020Z"
   },
   {
    "duration": 17,
    "start_time": "2023-10-08T20:09:13.131Z"
   },
   {
    "duration": 6,
    "start_time": "2023-10-08T20:09:13.149Z"
   },
   {
    "duration": 5,
    "start_time": "2023-10-08T20:09:13.157Z"
   },
   {
    "duration": 31,
    "start_time": "2023-10-08T20:09:13.164Z"
   },
   {
    "duration": 14,
    "start_time": "2023-10-08T20:09:13.198Z"
   },
   {
    "duration": 9,
    "start_time": "2023-10-08T20:09:13.214Z"
   },
   {
    "duration": 827,
    "start_time": "2023-10-08T20:09:13.224Z"
   },
   {
    "duration": 1923,
    "start_time": "2023-10-08T20:09:14.053Z"
   },
   {
    "duration": 9,
    "start_time": "2023-10-08T20:09:15.979Z"
   },
   {
    "duration": 1874,
    "start_time": "2023-10-08T20:09:15.989Z"
   },
   {
    "duration": 10,
    "start_time": "2023-10-08T20:09:17.865Z"
   },
   {
    "duration": 1849,
    "start_time": "2023-10-08T20:09:17.877Z"
   },
   {
    "duration": 1755,
    "start_time": "2023-10-08T20:09:19.728Z"
   },
   {
    "duration": 1027,
    "start_time": "2023-10-08T20:09:21.485Z"
   },
   {
    "duration": 104,
    "start_time": "2023-10-08T20:09:22.514Z"
   },
   {
    "duration": 109,
    "start_time": "2023-10-08T20:09:22.620Z"
   },
   {
    "duration": 106,
    "start_time": "2023-10-08T20:09:22.731Z"
   },
   {
    "duration": 311,
    "start_time": "2023-10-08T20:09:22.839Z"
   },
   {
    "duration": 6,
    "start_time": "2023-10-08T20:09:23.152Z"
   },
   {
    "duration": 267,
    "start_time": "2023-10-08T20:09:23.159Z"
   },
   {
    "duration": 394,
    "start_time": "2023-10-08T20:17:47.743Z"
   },
   {
    "duration": 6815,
    "start_time": "2023-10-08T20:20:00.376Z"
   },
   {
    "duration": 41025,
    "start_time": "2023-10-08T20:20:33.850Z"
   },
   {
    "duration": 15134,
    "start_time": "2023-10-08T20:21:40.885Z"
   },
   {
    "duration": 1311,
    "start_time": "2023-10-08T20:33:50.992Z"
   },
   {
    "duration": 42,
    "start_time": "2023-10-08T20:33:52.305Z"
   },
   {
    "duration": 15,
    "start_time": "2023-10-08T20:33:52.348Z"
   },
   {
    "duration": 26,
    "start_time": "2023-10-08T20:33:52.365Z"
   },
   {
    "duration": 19,
    "start_time": "2023-10-08T20:33:52.393Z"
   },
   {
    "duration": 60,
    "start_time": "2023-10-08T20:33:52.413Z"
   },
   {
    "duration": 1556,
    "start_time": "2023-10-08T20:33:52.475Z"
   },
   {
    "duration": 5,
    "start_time": "2023-10-08T20:33:54.033Z"
   },
   {
    "duration": 18,
    "start_time": "2023-10-08T20:33:54.039Z"
   },
   {
    "duration": 27,
    "start_time": "2023-10-08T20:33:54.058Z"
   },
   {
    "duration": 11,
    "start_time": "2023-10-08T20:33:54.087Z"
   },
   {
    "duration": 12,
    "start_time": "2023-10-08T20:33:54.099Z"
   },
   {
    "duration": 30,
    "start_time": "2023-10-08T20:33:54.113Z"
   },
   {
    "duration": 15,
    "start_time": "2023-10-08T20:33:54.151Z"
   },
   {
    "duration": 9,
    "start_time": "2023-10-08T20:33:54.168Z"
   },
   {
    "duration": 776,
    "start_time": "2023-10-08T20:33:54.178Z"
   },
   {
    "duration": 1992,
    "start_time": "2023-10-08T20:33:54.956Z"
   },
   {
    "duration": 11,
    "start_time": "2023-10-08T20:33:56.950Z"
   },
   {
    "duration": 2012,
    "start_time": "2023-10-08T20:33:56.962Z"
   },
   {
    "duration": 9,
    "start_time": "2023-10-08T20:33:58.976Z"
   },
   {
    "duration": 1990,
    "start_time": "2023-10-08T20:33:58.987Z"
   },
   {
    "duration": 1900,
    "start_time": "2023-10-08T20:34:00.980Z"
   },
   {
    "duration": 949,
    "start_time": "2023-10-08T20:34:02.882Z"
   },
   {
    "duration": 107,
    "start_time": "2023-10-08T20:34:03.833Z"
   },
   {
    "duration": 99,
    "start_time": "2023-10-08T20:34:03.941Z"
   },
   {
    "duration": 102,
    "start_time": "2023-10-08T20:34:04.049Z"
   },
   {
    "duration": 205,
    "start_time": "2023-10-08T20:34:04.153Z"
   },
   {
    "duration": 91,
    "start_time": "2023-10-08T20:34:04.360Z"
   },
   {
    "duration": 313,
    "start_time": "2023-10-08T20:34:04.453Z"
   },
   {
    "duration": 14945,
    "start_time": "2023-10-08T20:34:04.768Z"
   },
   {
    "duration": 72069,
    "start_time": "2023-10-08T20:47:03.690Z"
   },
   {
    "duration": 52816,
    "start_time": "2023-10-08T20:48:38.766Z"
   },
   {
    "duration": 1438,
    "start_time": "2023-10-08T21:34:13.532Z"
   },
   {
    "duration": 42,
    "start_time": "2023-10-08T21:34:14.972Z"
   },
   {
    "duration": 16,
    "start_time": "2023-10-08T21:34:15.016Z"
   },
   {
    "duration": 30,
    "start_time": "2023-10-08T21:34:15.034Z"
   },
   {
    "duration": 25,
    "start_time": "2023-10-08T21:34:15.067Z"
   },
   {
    "duration": 64,
    "start_time": "2023-10-08T21:34:15.093Z"
   },
   {
    "duration": 1754,
    "start_time": "2023-10-08T21:34:15.162Z"
   },
   {
    "duration": 5,
    "start_time": "2023-10-08T21:34:16.917Z"
   },
   {
    "duration": 40,
    "start_time": "2023-10-08T21:34:16.923Z"
   },
   {
    "duration": 15,
    "start_time": "2023-10-08T21:34:16.965Z"
   },
   {
    "duration": 14,
    "start_time": "2023-10-08T21:34:16.982Z"
   },
   {
    "duration": 39,
    "start_time": "2023-10-08T21:34:16.998Z"
   },
   {
    "duration": 51,
    "start_time": "2023-10-08T21:34:17.039Z"
   },
   {
    "duration": 15,
    "start_time": "2023-10-08T21:34:17.093Z"
   },
   {
    "duration": 9,
    "start_time": "2023-10-08T21:34:17.110Z"
   },
   {
    "duration": 1030,
    "start_time": "2023-10-08T21:34:17.120Z"
   },
   {
    "duration": 2004,
    "start_time": "2023-10-08T21:34:18.154Z"
   },
   {
    "duration": 11,
    "start_time": "2023-10-08T21:34:20.160Z"
   },
   {
    "duration": 1981,
    "start_time": "2023-10-08T21:34:20.172Z"
   },
   {
    "duration": 12,
    "start_time": "2023-10-08T21:34:22.161Z"
   },
   {
    "duration": 2038,
    "start_time": "2023-10-08T21:34:22.175Z"
   },
   {
    "duration": 2154,
    "start_time": "2023-10-08T21:34:24.215Z"
   },
   {
    "duration": 1085,
    "start_time": "2023-10-08T21:34:26.370Z"
   },
   {
    "duration": 116,
    "start_time": "2023-10-08T21:34:27.456Z"
   },
   {
    "duration": 107,
    "start_time": "2023-10-08T21:34:27.574Z"
   },
   {
    "duration": 118,
    "start_time": "2023-10-08T21:34:27.683Z"
   },
   {
    "duration": 767,
    "start_time": "2023-10-08T21:34:27.803Z"
   },
   {
    "duration": 0,
    "start_time": "2023-10-08T21:34:28.572Z"
   },
   {
    "duration": 0,
    "start_time": "2023-10-08T21:34:28.574Z"
   },
   {
    "duration": 0,
    "start_time": "2023-10-08T21:34:28.576Z"
   },
   {
    "duration": 255,
    "start_time": "2023-10-08T21:34:57.996Z"
   },
   {
    "duration": 168,
    "start_time": "2023-10-08T21:47:53.490Z"
   },
   {
    "duration": 61668,
    "start_time": "2023-10-08T21:49:25.320Z"
   },
   {
    "duration": 297,
    "start_time": "2023-10-08T22:01:56.865Z"
   },
   {
    "duration": 232,
    "start_time": "2023-10-08T22:03:25.911Z"
   },
   {
    "duration": 57182,
    "start_time": "2023-10-08T22:18:05.488Z"
   },
   {
    "duration": 57896,
    "start_time": "2023-10-08T22:20:05.592Z"
   },
   {
    "duration": 1448,
    "start_time": "2023-10-08T22:29:46.649Z"
   },
   {
    "duration": 42,
    "start_time": "2023-10-08T22:29:48.099Z"
   },
   {
    "duration": 16,
    "start_time": "2023-10-08T22:29:48.142Z"
   },
   {
    "duration": 13,
    "start_time": "2023-10-08T22:29:48.159Z"
   },
   {
    "duration": 4,
    "start_time": "2023-10-08T22:29:48.174Z"
   },
   {
    "duration": 37,
    "start_time": "2023-10-08T22:29:48.179Z"
   },
   {
    "duration": 1606,
    "start_time": "2023-10-08T22:29:48.217Z"
   },
   {
    "duration": 5,
    "start_time": "2023-10-08T22:29:49.824Z"
   },
   {
    "duration": 20,
    "start_time": "2023-10-08T22:29:49.831Z"
   },
   {
    "duration": 44,
    "start_time": "2023-10-08T22:29:49.852Z"
   },
   {
    "duration": 7,
    "start_time": "2023-10-08T22:29:49.897Z"
   },
   {
    "duration": 22,
    "start_time": "2023-10-08T22:29:49.905Z"
   },
   {
    "duration": 38,
    "start_time": "2023-10-08T22:29:49.929Z"
   },
   {
    "duration": 15,
    "start_time": "2023-10-08T22:29:49.970Z"
   },
   {
    "duration": 13,
    "start_time": "2023-10-08T22:29:49.987Z"
   },
   {
    "duration": 1353,
    "start_time": "2023-10-08T22:29:50.002Z"
   },
   {
    "duration": 2064,
    "start_time": "2023-10-08T22:29:51.356Z"
   },
   {
    "duration": 11,
    "start_time": "2023-10-08T22:29:53.422Z"
   },
   {
    "duration": 2140,
    "start_time": "2023-10-08T22:29:53.434Z"
   },
   {
    "duration": 11,
    "start_time": "2023-10-08T22:29:55.576Z"
   },
   {
    "duration": 2108,
    "start_time": "2023-10-08T22:29:55.589Z"
   },
   {
    "duration": 1874,
    "start_time": "2023-10-08T22:29:57.699Z"
   },
   {
    "duration": 1003,
    "start_time": "2023-10-08T22:29:59.575Z"
   },
   {
    "duration": 118,
    "start_time": "2023-10-08T22:30:00.580Z"
   },
   {
    "duration": 118,
    "start_time": "2023-10-08T22:30:00.700Z"
   },
   {
    "duration": 113,
    "start_time": "2023-10-08T22:30:00.820Z"
   },
   {
    "duration": 763,
    "start_time": "2023-10-08T22:30:00.934Z"
   },
   {
    "duration": 8,
    "start_time": "2023-10-08T22:30:01.698Z"
   },
   {
    "duration": 228,
    "start_time": "2023-10-08T22:30:01.708Z"
   },
   {
    "duration": 64210,
    "start_time": "2023-10-08T22:30:01.938Z"
   },
   {
    "duration": 300,
    "start_time": "2023-10-08T22:31:06.150Z"
   },
   {
    "duration": 259,
    "start_time": "2023-10-08T22:31:06.452Z"
   },
   {
    "duration": 64872,
    "start_time": "2023-10-08T22:31:06.713Z"
   },
   {
    "duration": 464,
    "start_time": "2023-10-08T22:32:11.587Z"
   },
   {
    "duration": 181,
    "start_time": "2023-10-08T22:34:45.479Z"
   },
   {
    "duration": 34,
    "start_time": "2023-10-08T22:39:37.603Z"
   },
   {
    "duration": 218,
    "start_time": "2023-10-08T22:41:18.895Z"
   },
   {
    "duration": 204,
    "start_time": "2023-10-08T22:41:54.426Z"
   },
   {
    "duration": 38790,
    "start_time": "2023-10-08T22:45:37.602Z"
   },
   {
    "duration": 222,
    "start_time": "2023-10-08T22:55:35.787Z"
   },
   {
    "duration": 158,
    "start_time": "2023-10-08T22:56:28.085Z"
   },
   {
    "duration": 1461,
    "start_time": "2023-10-08T23:07:07.237Z"
   },
   {
    "duration": 43,
    "start_time": "2023-10-08T23:07:08.700Z"
   },
   {
    "duration": 16,
    "start_time": "2023-10-08T23:07:08.744Z"
   },
   {
    "duration": 37,
    "start_time": "2023-10-08T23:07:08.761Z"
   },
   {
    "duration": 9,
    "start_time": "2023-10-08T23:07:08.800Z"
   },
   {
    "duration": 56,
    "start_time": "2023-10-08T23:07:08.811Z"
   },
   {
    "duration": 1727,
    "start_time": "2023-10-08T23:07:08.869Z"
   },
   {
    "duration": 5,
    "start_time": "2023-10-08T23:07:10.597Z"
   },
   {
    "duration": 37,
    "start_time": "2023-10-08T23:07:10.604Z"
   },
   {
    "duration": 32,
    "start_time": "2023-10-08T23:07:10.642Z"
   },
   {
    "duration": 7,
    "start_time": "2023-10-08T23:07:10.676Z"
   },
   {
    "duration": 42,
    "start_time": "2023-10-08T23:07:10.684Z"
   },
   {
    "duration": 39,
    "start_time": "2023-10-08T23:07:10.727Z"
   },
   {
    "duration": 17,
    "start_time": "2023-10-08T23:07:10.768Z"
   },
   {
    "duration": 27,
    "start_time": "2023-10-08T23:07:10.786Z"
   },
   {
    "duration": 739,
    "start_time": "2023-10-08T23:07:10.815Z"
   },
   {
    "duration": 2076,
    "start_time": "2023-10-08T23:07:11.556Z"
   },
   {
    "duration": 11,
    "start_time": "2023-10-08T23:07:13.634Z"
   },
   {
    "duration": 2081,
    "start_time": "2023-10-08T23:07:13.647Z"
   },
   {
    "duration": 24,
    "start_time": "2023-10-08T23:07:15.731Z"
   },
   {
    "duration": 2143,
    "start_time": "2023-10-08T23:07:15.757Z"
   },
   {
    "duration": 1966,
    "start_time": "2023-10-08T23:07:17.902Z"
   },
   {
    "duration": 1034,
    "start_time": "2023-10-08T23:07:19.870Z"
   },
   {
    "duration": 114,
    "start_time": "2023-10-08T23:07:20.905Z"
   },
   {
    "duration": 104,
    "start_time": "2023-10-08T23:07:21.021Z"
   },
   {
    "duration": 126,
    "start_time": "2023-10-08T23:07:21.126Z"
   },
   {
    "duration": 405,
    "start_time": "2023-10-08T23:07:21.253Z"
   },
   {
    "duration": 16,
    "start_time": "2023-10-08T23:07:21.660Z"
   },
   {
    "duration": 179,
    "start_time": "2023-10-08T23:07:21.678Z"
   },
   {
    "duration": 59997,
    "start_time": "2023-10-08T23:07:21.859Z"
   },
   {
    "duration": 196,
    "start_time": "2023-10-08T23:08:21.858Z"
   },
   {
    "duration": 268,
    "start_time": "2023-10-08T23:08:22.056Z"
   },
   {
    "duration": 56659,
    "start_time": "2023-10-08T23:08:22.326Z"
   },
   {
    "duration": 8,
    "start_time": "2023-10-08T23:09:18.986Z"
   },
   {
    "duration": 359,
    "start_time": "2023-10-08T23:09:18.995Z"
   },
   {
    "duration": 117,
    "start_time": "2023-10-08T23:09:19.356Z"
   },
   {
    "duration": 218,
    "start_time": "2023-10-08T23:09:19.475Z"
   },
   {
    "duration": 80128,
    "start_time": "2023-10-08T23:09:19.694Z"
   },
   {
    "duration": 3,
    "start_time": "2023-10-08T23:10:39.824Z"
   },
   {
    "duration": 49,
    "start_time": "2023-10-08T23:10:39.828Z"
   },
   {
    "duration": 17,
    "start_time": "2023-10-08T23:10:39.880Z"
   },
   {
    "duration": 108,
    "start_time": "2023-10-08T23:13:27.285Z"
   },
   {
    "duration": 401,
    "start_time": "2023-10-08T23:13:29.652Z"
   },
   {
    "duration": 19,
    "start_time": "2023-10-08T23:13:35.658Z"
   },
   {
    "duration": 18,
    "start_time": "2023-10-08T23:13:53.565Z"
   },
   {
    "duration": 22,
    "start_time": "2023-10-08T23:14:09.313Z"
   },
   {
    "duration": 22,
    "start_time": "2023-10-08T23:14:30.740Z"
   },
   {
    "duration": 272,
    "start_time": "2023-10-08T23:15:17.781Z"
   },
   {
    "duration": 12822,
    "start_time": "2023-10-08T23:16:29.724Z"
   },
   {
    "duration": 28741,
    "start_time": "2023-10-08T23:16:58.313Z"
   },
   {
    "duration": 8,
    "start_time": "2023-10-08T23:29:32.757Z"
   },
   {
    "duration": 1318,
    "start_time": "2023-10-08T23:31:37.503Z"
   },
   {
    "duration": 42,
    "start_time": "2023-10-08T23:31:38.823Z"
   },
   {
    "duration": 16,
    "start_time": "2023-10-08T23:31:38.866Z"
   },
   {
    "duration": 13,
    "start_time": "2023-10-08T23:31:38.883Z"
   },
   {
    "duration": 4,
    "start_time": "2023-10-08T23:31:38.897Z"
   },
   {
    "duration": 58,
    "start_time": "2023-10-08T23:31:38.903Z"
   },
   {
    "duration": 1554,
    "start_time": "2023-10-08T23:31:38.962Z"
   },
   {
    "duration": 5,
    "start_time": "2023-10-08T23:31:40.517Z"
   },
   {
    "duration": 27,
    "start_time": "2023-10-08T23:31:40.524Z"
   },
   {
    "duration": 12,
    "start_time": "2023-10-08T23:31:40.554Z"
   },
   {
    "duration": 20,
    "start_time": "2023-10-08T23:31:40.568Z"
   },
   {
    "duration": 15,
    "start_time": "2023-10-08T23:31:40.589Z"
   },
   {
    "duration": 28,
    "start_time": "2023-10-08T23:31:40.605Z"
   },
   {
    "duration": 16,
    "start_time": "2023-10-08T23:31:40.634Z"
   },
   {
    "duration": 8,
    "start_time": "2023-10-08T23:31:40.652Z"
   },
   {
    "duration": 1992,
    "start_time": "2023-10-08T23:31:40.661Z"
   },
   {
    "duration": 1869,
    "start_time": "2023-10-08T23:31:42.655Z"
   },
   {
    "duration": 11,
    "start_time": "2023-10-08T23:31:44.526Z"
   },
   {
    "duration": 1972,
    "start_time": "2023-10-08T23:31:44.538Z"
   },
   {
    "duration": 10,
    "start_time": "2023-10-08T23:31:46.512Z"
   },
   {
    "duration": 1896,
    "start_time": "2023-10-08T23:31:46.524Z"
   },
   {
    "duration": 1837,
    "start_time": "2023-10-08T23:31:48.421Z"
   },
   {
    "duration": 1009,
    "start_time": "2023-10-08T23:31:50.260Z"
   },
   {
    "duration": 97,
    "start_time": "2023-10-08T23:31:51.271Z"
   },
   {
    "duration": 109,
    "start_time": "2023-10-08T23:31:51.370Z"
   },
   {
    "duration": 113,
    "start_time": "2023-10-08T23:31:51.481Z"
   },
   {
    "duration": 568,
    "start_time": "2023-10-08T23:31:51.596Z"
   },
   {
    "duration": 6,
    "start_time": "2023-10-08T23:31:52.168Z"
   },
   {
    "duration": 190,
    "start_time": "2023-10-08T23:31:52.176Z"
   },
   {
    "duration": 129058,
    "start_time": "2023-10-08T23:31:52.368Z"
   },
   {
    "duration": 227,
    "start_time": "2023-10-08T23:34:01.427Z"
   },
   {
    "duration": 466,
    "start_time": "2023-10-08T23:34:01.657Z"
   },
   {
    "duration": 127431,
    "start_time": "2023-10-08T23:34:02.125Z"
   },
   {
    "duration": 10,
    "start_time": "2023-10-08T23:36:09.558Z"
   },
   {
    "duration": 282,
    "start_time": "2023-10-08T23:36:09.569Z"
   },
   {
    "duration": 291,
    "start_time": "2023-10-08T23:36:09.853Z"
   },
   {
    "duration": 165051,
    "start_time": "2023-10-08T23:36:10.149Z"
   },
   {
    "duration": 4,
    "start_time": "2023-10-08T23:38:55.202Z"
   },
   {
    "duration": 7,
    "start_time": "2023-10-08T23:38:55.208Z"
   },
   {
    "duration": 26,
    "start_time": "2023-10-08T23:38:55.217Z"
   },
   {
    "duration": 4158,
    "start_time": "2023-10-08T23:42:00.812Z"
   },
   {
    "duration": 98,
    "start_time": "2023-10-08T23:47:58.685Z"
   },
   {
    "duration": 8,
    "start_time": "2023-10-08T23:48:04.250Z"
   },
   {
    "duration": 51,
    "start_time": "2023-10-08T23:48:06.112Z"
   },
   {
    "duration": 107,
    "start_time": "2023-10-08T23:53:35.342Z"
   },
   {
    "duration": 23,
    "start_time": "2023-10-08T23:59:41.222Z"
   },
   {
    "duration": 1485,
    "start_time": "2023-10-09T00:00:31.152Z"
   },
   {
    "duration": 42,
    "start_time": "2023-10-09T00:00:32.639Z"
   },
   {
    "duration": 16,
    "start_time": "2023-10-09T00:00:32.683Z"
   },
   {
    "duration": 67,
    "start_time": "2023-10-09T00:00:32.700Z"
   },
   {
    "duration": 38,
    "start_time": "2023-10-09T00:00:32.769Z"
   },
   {
    "duration": 77,
    "start_time": "2023-10-09T00:00:32.808Z"
   },
   {
    "duration": 1615,
    "start_time": "2023-10-09T00:00:32.886Z"
   },
   {
    "duration": 5,
    "start_time": "2023-10-09T00:00:34.502Z"
   },
   {
    "duration": 27,
    "start_time": "2023-10-09T00:00:34.509Z"
   },
   {
    "duration": 48,
    "start_time": "2023-10-09T00:00:34.538Z"
   },
   {
    "duration": 6,
    "start_time": "2023-10-09T00:00:34.588Z"
   },
   {
    "duration": 49,
    "start_time": "2023-10-09T00:00:34.595Z"
   },
   {
    "duration": 47,
    "start_time": "2023-10-09T00:00:34.646Z"
   },
   {
    "duration": 15,
    "start_time": "2023-10-09T00:00:34.697Z"
   },
   {
    "duration": 22,
    "start_time": "2023-10-09T00:00:34.714Z"
   },
   {
    "duration": 1313,
    "start_time": "2023-10-09T00:00:34.737Z"
   },
   {
    "duration": 2011,
    "start_time": "2023-10-09T00:00:36.053Z"
   },
   {
    "duration": 11,
    "start_time": "2023-10-09T00:00:38.066Z"
   },
   {
    "duration": 1992,
    "start_time": "2023-10-09T00:00:38.079Z"
   },
   {
    "duration": 10,
    "start_time": "2023-10-09T00:00:40.073Z"
   },
   {
    "duration": 2084,
    "start_time": "2023-10-09T00:00:40.084Z"
   },
   {
    "duration": 1990,
    "start_time": "2023-10-09T00:00:42.170Z"
   },
   {
    "duration": 1083,
    "start_time": "2023-10-09T00:00:44.162Z"
   },
   {
    "duration": 150,
    "start_time": "2023-10-09T00:00:45.249Z"
   },
   {
    "duration": 119,
    "start_time": "2023-10-09T00:00:45.400Z"
   },
   {
    "duration": 111,
    "start_time": "2023-10-09T00:00:45.521Z"
   },
   {
    "duration": 498,
    "start_time": "2023-10-09T00:00:45.635Z"
   },
   {
    "duration": 17,
    "start_time": "2023-10-09T00:00:46.135Z"
   },
   {
    "duration": 199,
    "start_time": "2023-10-09T00:00:46.154Z"
   },
   {
    "duration": 82903,
    "start_time": "2023-10-09T00:00:46.354Z"
   },
   {
    "duration": 292,
    "start_time": "2023-10-09T00:02:09.258Z"
   },
   {
    "duration": 269,
    "start_time": "2023-10-09T00:02:09.553Z"
   },
   {
    "duration": 83141,
    "start_time": "2023-10-09T00:02:09.823Z"
   },
   {
    "duration": 9,
    "start_time": "2023-10-09T00:03:32.966Z"
   },
   {
    "duration": 374,
    "start_time": "2023-10-09T00:03:32.977Z"
   },
   {
    "duration": 303,
    "start_time": "2023-10-09T00:03:33.353Z"
   },
   {
    "duration": 109937,
    "start_time": "2023-10-09T00:03:33.658Z"
   },
   {
    "duration": 7,
    "start_time": "2023-10-09T00:05:23.597Z"
   },
   {
    "duration": 245,
    "start_time": "2023-10-09T00:05:23.606Z"
   },
   {
    "duration": 214,
    "start_time": "2023-10-09T00:05:23.853Z"
   },
   {
    "duration": 50509,
    "start_time": "2023-10-09T00:05:24.071Z"
   },
   {
    "duration": 4,
    "start_time": "2023-10-09T00:06:14.582Z"
   },
   {
    "duration": 14,
    "start_time": "2023-10-09T00:06:14.588Z"
   },
   {
    "duration": 14,
    "start_time": "2023-10-09T00:06:14.604Z"
   },
   {
    "duration": 47,
    "start_time": "2023-10-09T00:06:14.619Z"
   },
   {
    "duration": 5,
    "start_time": "2023-10-09T00:13:16.313Z"
   },
   {
    "duration": 102,
    "start_time": "2023-10-09T00:14:13.914Z"
   },
   {
    "duration": 10,
    "start_time": "2023-10-09T00:14:41.874Z"
   },
   {
    "duration": 4,
    "start_time": "2023-10-09T00:15:56.208Z"
   },
   {
    "duration": 5,
    "start_time": "2023-10-09T00:16:56.159Z"
   },
   {
    "duration": 1431,
    "start_time": "2023-10-09T00:40:24.373Z"
   },
   {
    "duration": 43,
    "start_time": "2023-10-09T00:40:25.806Z"
   },
   {
    "duration": 16,
    "start_time": "2023-10-09T00:40:25.850Z"
   },
   {
    "duration": 22,
    "start_time": "2023-10-09T00:40:25.867Z"
   },
   {
    "duration": 5,
    "start_time": "2023-10-09T00:40:25.892Z"
   },
   {
    "duration": 58,
    "start_time": "2023-10-09T00:40:25.899Z"
   },
   {
    "duration": 1569,
    "start_time": "2023-10-09T00:40:25.959Z"
   },
   {
    "duration": 5,
    "start_time": "2023-10-09T00:40:27.530Z"
   },
   {
    "duration": 20,
    "start_time": "2023-10-09T00:40:27.536Z"
   },
   {
    "duration": 12,
    "start_time": "2023-10-09T00:40:27.558Z"
   },
   {
    "duration": 17,
    "start_time": "2023-10-09T00:40:27.571Z"
   },
   {
    "duration": 14,
    "start_time": "2023-10-09T00:40:27.589Z"
   },
   {
    "duration": 35,
    "start_time": "2023-10-09T00:40:27.605Z"
   },
   {
    "duration": 14,
    "start_time": "2023-10-09T00:40:27.650Z"
   },
   {
    "duration": 9,
    "start_time": "2023-10-09T00:40:27.666Z"
   },
   {
    "duration": 775,
    "start_time": "2023-10-09T00:40:27.677Z"
   },
   {
    "duration": 1810,
    "start_time": "2023-10-09T00:40:28.454Z"
   },
   {
    "duration": 10,
    "start_time": "2023-10-09T00:40:30.266Z"
   },
   {
    "duration": 1824,
    "start_time": "2023-10-09T00:40:30.277Z"
   },
   {
    "duration": 10,
    "start_time": "2023-10-09T00:40:32.102Z"
   },
   {
    "duration": 1824,
    "start_time": "2023-10-09T00:40:32.113Z"
   },
   {
    "duration": 1752,
    "start_time": "2023-10-09T00:40:33.939Z"
   },
   {
    "duration": 1017,
    "start_time": "2023-10-09T00:40:35.693Z"
   },
   {
    "duration": 103,
    "start_time": "2023-10-09T00:40:36.712Z"
   },
   {
    "duration": 106,
    "start_time": "2023-10-09T00:40:36.817Z"
   },
   {
    "duration": 100,
    "start_time": "2023-10-09T00:40:36.925Z"
   },
   {
    "duration": 448,
    "start_time": "2023-10-09T00:40:37.026Z"
   },
   {
    "duration": 6,
    "start_time": "2023-10-09T00:40:37.475Z"
   },
   {
    "duration": 199,
    "start_time": "2023-10-09T00:40:37.482Z"
   },
   {
    "duration": 77583,
    "start_time": "2023-10-09T00:40:37.682Z"
   },
   {
    "duration": 284,
    "start_time": "2023-10-09T00:41:55.266Z"
   },
   {
    "duration": 178,
    "start_time": "2023-10-09T00:41:55.552Z"
   },
   {
    "duration": 77525,
    "start_time": "2023-10-09T00:41:55.732Z"
   },
   {
    "duration": 10,
    "start_time": "2023-10-09T00:43:13.259Z"
   },
   {
    "duration": 281,
    "start_time": "2023-10-09T00:43:13.270Z"
   },
   {
    "duration": 288,
    "start_time": "2023-10-09T00:43:13.553Z"
   },
   {
    "duration": 101555,
    "start_time": "2023-10-09T00:43:13.843Z"
   },
   {
    "duration": 7,
    "start_time": "2023-10-09T00:44:55.400Z"
   },
   {
    "duration": 242,
    "start_time": "2023-10-09T00:44:55.409Z"
   },
   {
    "duration": 208,
    "start_time": "2023-10-09T00:44:55.654Z"
   },
   {
    "duration": 46289,
    "start_time": "2023-10-09T00:44:55.865Z"
   },
   {
    "duration": 5,
    "start_time": "2023-10-09T00:45:42.155Z"
   },
   {
    "duration": 15,
    "start_time": "2023-10-09T00:45:42.161Z"
   },
   {
    "duration": 24,
    "start_time": "2023-10-09T00:45:42.178Z"
   },
   {
    "duration": 33,
    "start_time": "2023-10-09T00:45:42.203Z"
   },
   {
    "duration": 33,
    "start_time": "2023-10-09T00:45:42.238Z"
   },
   {
    "duration": 33,
    "start_time": "2023-10-09T00:45:42.273Z"
   },
   {
    "duration": 46,
    "start_time": "2023-10-09T00:45:42.308Z"
   },
   {
    "duration": 11,
    "start_time": "2023-10-09T00:45:42.355Z"
   },
   {
    "duration": 48,
    "start_time": "2023-10-09T07:50:49.620Z"
   },
   {
    "duration": 1637,
    "start_time": "2023-10-09T07:50:59.630Z"
   },
   {
    "duration": 82,
    "start_time": "2023-10-09T07:51:01.269Z"
   },
   {
    "duration": 17,
    "start_time": "2023-10-09T07:51:01.353Z"
   },
   {
    "duration": 227,
    "start_time": "2023-10-09T07:51:01.372Z"
   },
   {
    "duration": 315,
    "start_time": "2023-10-09T07:51:01.601Z"
   },
   {
    "duration": 99,
    "start_time": "2023-10-09T07:51:01.917Z"
   },
   {
    "duration": 1843,
    "start_time": "2023-10-09T07:51:02.017Z"
   },
   {
    "duration": 5,
    "start_time": "2023-10-09T07:51:03.862Z"
   },
   {
    "duration": 42,
    "start_time": "2023-10-09T07:51:03.868Z"
   },
   {
    "duration": 44,
    "start_time": "2023-10-09T07:51:03.912Z"
   },
   {
    "duration": 39,
    "start_time": "2023-10-09T07:51:03.957Z"
   },
   {
    "duration": 31,
    "start_time": "2023-10-09T07:51:03.998Z"
   },
   {
    "duration": 62,
    "start_time": "2023-10-09T07:51:04.031Z"
   },
   {
    "duration": 15,
    "start_time": "2023-10-09T07:51:04.095Z"
   },
   {
    "duration": 8,
    "start_time": "2023-10-09T07:51:04.112Z"
   },
   {
    "duration": 1326,
    "start_time": "2023-10-09T07:51:04.122Z"
   },
   {
    "duration": 1942,
    "start_time": "2023-10-09T07:51:05.449Z"
   },
   {
    "duration": 10,
    "start_time": "2023-10-09T07:51:07.393Z"
   },
   {
    "duration": 1971,
    "start_time": "2023-10-09T07:51:07.404Z"
   },
   {
    "duration": 10,
    "start_time": "2023-10-09T07:51:09.378Z"
   },
   {
    "duration": 2043,
    "start_time": "2023-10-09T07:51:09.390Z"
   },
   {
    "duration": 1950,
    "start_time": "2023-10-09T07:51:11.435Z"
   },
   {
    "duration": 1118,
    "start_time": "2023-10-09T07:51:13.387Z"
   },
   {
    "duration": 145,
    "start_time": "2023-10-09T07:51:14.507Z"
   },
   {
    "duration": 137,
    "start_time": "2023-10-09T07:51:14.654Z"
   },
   {
    "duration": 117,
    "start_time": "2023-10-09T07:51:14.793Z"
   },
   {
    "duration": 851,
    "start_time": "2023-10-09T07:51:14.912Z"
   },
   {
    "duration": 8,
    "start_time": "2023-10-09T07:51:15.765Z"
   },
   {
    "duration": 205,
    "start_time": "2023-10-09T07:51:15.775Z"
   },
   {
    "duration": 84620,
    "start_time": "2023-10-09T07:51:15.982Z"
   },
   {
    "duration": 340,
    "start_time": "2023-10-09T07:52:40.604Z"
   },
   {
    "duration": 193,
    "start_time": "2023-10-09T07:52:40.945Z"
   },
   {
    "duration": 85050,
    "start_time": "2023-10-09T07:52:41.144Z"
   },
   {
    "duration": 8,
    "start_time": "2023-10-09T07:54:06.196Z"
   },
   {
    "duration": 346,
    "start_time": "2023-10-09T07:54:06.205Z"
   },
   {
    "duration": 297,
    "start_time": "2023-10-09T07:54:06.553Z"
   },
   {
    "duration": 110322,
    "start_time": "2023-10-09T07:54:06.851Z"
   },
   {
    "duration": 6,
    "start_time": "2023-10-09T07:55:57.175Z"
   },
   {
    "duration": 265,
    "start_time": "2023-10-09T07:55:57.182Z"
   },
   {
    "duration": 205,
    "start_time": "2023-10-09T07:55:57.449Z"
   },
   {
    "duration": 51077,
    "start_time": "2023-10-09T07:55:57.658Z"
   },
   {
    "duration": 9,
    "start_time": "2023-10-09T07:56:48.736Z"
   },
   {
    "duration": 8,
    "start_time": "2023-10-09T07:56:48.747Z"
   },
   {
    "duration": 16,
    "start_time": "2023-10-09T07:56:48.756Z"
   },
   {
    "duration": 6,
    "start_time": "2023-10-09T07:56:48.773Z"
   },
   {
    "duration": 16,
    "start_time": "2023-10-09T07:56:48.781Z"
   },
   {
    "duration": 6,
    "start_time": "2023-10-09T07:56:48.798Z"
   },
   {
    "duration": 40,
    "start_time": "2023-10-09T07:56:48.805Z"
   },
   {
    "duration": 3,
    "start_time": "2023-10-09T07:56:48.847Z"
   },
   {
    "duration": 8,
    "start_time": "2023-10-09T07:56:48.851Z"
   },
   {
    "duration": 180,
    "start_time": "2023-10-09T07:57:38.527Z"
   },
   {
    "duration": 184,
    "start_time": "2023-10-09T07:58:14.910Z"
   },
   {
    "duration": 345,
    "start_time": "2023-10-09T08:05:18.292Z"
   },
   {
    "duration": 9,
    "start_time": "2023-10-09T08:09:13.100Z"
   },
   {
    "duration": 3,
    "start_time": "2023-10-09T08:16:19.656Z"
   },
   {
    "duration": 4,
    "start_time": "2023-10-09T08:17:36.058Z"
   },
   {
    "duration": 4,
    "start_time": "2023-10-09T08:18:02.842Z"
   },
   {
    "duration": 10,
    "start_time": "2023-10-09T08:26:08.571Z"
   },
   {
    "duration": 309,
    "start_time": "2023-10-09T08:29:50.445Z"
   },
   {
    "duration": 329,
    "start_time": "2023-10-09T08:29:59.114Z"
   },
   {
    "duration": 333,
    "start_time": "2023-10-09T08:30:19.096Z"
   },
   {
    "duration": 316,
    "start_time": "2023-10-09T08:31:40.462Z"
   },
   {
    "duration": 300,
    "start_time": "2023-10-09T08:32:05.456Z"
   },
   {
    "duration": 266,
    "start_time": "2023-10-09T08:33:07.374Z"
   },
   {
    "duration": 1484,
    "start_time": "2023-10-09T08:33:41.876Z"
   },
   {
    "duration": 42,
    "start_time": "2023-10-09T08:33:43.362Z"
   },
   {
    "duration": 17,
    "start_time": "2023-10-09T08:33:43.406Z"
   },
   {
    "duration": 21,
    "start_time": "2023-10-09T08:33:43.425Z"
   },
   {
    "duration": 20,
    "start_time": "2023-10-09T08:33:43.449Z"
   },
   {
    "duration": 52,
    "start_time": "2023-10-09T08:33:43.471Z"
   },
   {
    "duration": 1879,
    "start_time": "2023-10-09T08:33:43.525Z"
   },
   {
    "duration": 5,
    "start_time": "2023-10-09T08:33:45.406Z"
   },
   {
    "duration": 34,
    "start_time": "2023-10-09T08:33:45.413Z"
   },
   {
    "duration": 47,
    "start_time": "2023-10-09T08:33:45.449Z"
   },
   {
    "duration": 50,
    "start_time": "2023-10-09T08:33:45.497Z"
   },
   {
    "duration": 50,
    "start_time": "2023-10-09T08:33:45.548Z"
   },
   {
    "duration": 58,
    "start_time": "2023-10-09T08:33:45.599Z"
   },
   {
    "duration": 16,
    "start_time": "2023-10-09T08:33:45.661Z"
   },
   {
    "duration": 44,
    "start_time": "2023-10-09T08:33:45.679Z"
   },
   {
    "duration": 1825,
    "start_time": "2023-10-09T08:33:45.724Z"
   },
   {
    "duration": 2074,
    "start_time": "2023-10-09T08:33:47.551Z"
   },
   {
    "duration": 10,
    "start_time": "2023-10-09T08:33:49.627Z"
   },
   {
    "duration": 2056,
    "start_time": "2023-10-09T08:33:49.639Z"
   },
   {
    "duration": 12,
    "start_time": "2023-10-09T08:33:51.697Z"
   },
   {
    "duration": 2257,
    "start_time": "2023-10-09T08:33:51.711Z"
   },
   {
    "duration": 2109,
    "start_time": "2023-10-09T08:33:53.969Z"
   },
   {
    "duration": 1058,
    "start_time": "2023-10-09T08:33:56.080Z"
   },
   {
    "duration": 107,
    "start_time": "2023-10-09T08:33:57.140Z"
   },
   {
    "duration": 114,
    "start_time": "2023-10-09T08:33:57.249Z"
   },
   {
    "duration": 111,
    "start_time": "2023-10-09T08:33:57.365Z"
   },
   {
    "duration": 385,
    "start_time": "2023-10-09T08:33:57.478Z"
   },
   {
    "duration": 6,
    "start_time": "2023-10-09T08:33:57.865Z"
   },
   {
    "duration": 175,
    "start_time": "2023-10-09T08:33:57.872Z"
   },
   {
    "duration": 84905,
    "start_time": "2023-10-09T08:33:58.049Z"
   },
   {
    "duration": 290,
    "start_time": "2023-10-09T08:35:22.956Z"
   },
   {
    "duration": 292,
    "start_time": "2023-10-09T08:35:23.248Z"
   },
   {
    "duration": 85997,
    "start_time": "2023-10-09T08:35:23.543Z"
   },
   {
    "duration": 8,
    "start_time": "2023-10-09T08:36:49.544Z"
   },
   {
    "duration": 297,
    "start_time": "2023-10-09T08:36:49.554Z"
   },
   {
    "duration": 309,
    "start_time": "2023-10-09T08:36:49.853Z"
   },
   {
    "duration": 110931,
    "start_time": "2023-10-09T08:36:50.164Z"
   },
   {
    "duration": 6,
    "start_time": "2023-10-09T08:38:41.096Z"
   },
   {
    "duration": 242,
    "start_time": "2023-10-09T08:38:41.104Z"
   },
   {
    "duration": 230,
    "start_time": "2023-10-09T08:38:41.348Z"
   },
   {
    "duration": 51768,
    "start_time": "2023-10-09T08:38:41.582Z"
   },
   {
    "duration": 4,
    "start_time": "2023-10-09T08:39:33.352Z"
   },
   {
    "duration": 44,
    "start_time": "2023-10-09T08:39:33.358Z"
   },
   {
    "duration": 27,
    "start_time": "2023-10-09T08:39:33.404Z"
   },
   {
    "duration": 20,
    "start_time": "2023-10-09T08:39:33.433Z"
   },
   {
    "duration": 51,
    "start_time": "2023-10-09T08:39:33.455Z"
   },
   {
    "duration": 25,
    "start_time": "2023-10-09T08:39:33.508Z"
   },
   {
    "duration": 41,
    "start_time": "2023-10-09T08:39:33.535Z"
   },
   {
    "duration": 9,
    "start_time": "2023-10-09T08:39:33.578Z"
   },
   {
    "duration": 222,
    "start_time": "2023-10-09T08:39:33.588Z"
   },
   {
    "duration": 431,
    "start_time": "2023-10-09T08:39:33.812Z"
   }
  ],
  "kernelspec": {
   "display_name": "Python 3 (ipykernel)",
   "language": "python",
   "name": "python3"
  },
  "language_info": {
   "codemirror_mode": {
    "name": "ipython",
    "version": 3
   },
   "file_extension": ".py",
   "mimetype": "text/x-python",
   "name": "python",
   "nbconvert_exporter": "python",
   "pygments_lexer": "ipython3",
   "version": "3.9.13"
  },
  "toc": {
   "base_numbering": 1,
   "nav_menu": {},
   "number_sections": true,
   "sideBar": true,
   "skip_h1_title": true,
   "title_cell": "Содержание",
   "title_sidebar": "Contents",
   "toc_cell": true,
   "toc_position": {},
   "toc_section_display": true,
   "toc_window_display": false
  }
 },
 "nbformat": 4,
 "nbformat_minor": 2
}
